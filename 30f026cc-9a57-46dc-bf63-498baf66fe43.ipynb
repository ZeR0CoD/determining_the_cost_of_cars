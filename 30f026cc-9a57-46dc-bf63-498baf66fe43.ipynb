{
 "cells": [
  {
   "cell_type": "markdown",
   "metadata": {},
   "source": [
    "# Определение стоимости автомобилей"
   ]
  },
  {
   "cell_type": "markdown",
   "metadata": {},
   "source": [
    "Сервис по продаже автомобилей с пробегом «Не бит, не крашен» разрабатывает приложение для привлечения новых клиентов. В нём можно быстро узнать рыночную стоимость своего автомобиля. В вашем распоряжении исторические данные: технические характеристики, комплектации и цены автомобилей. Вам нужно построить модель для определения стоимости. \n",
    "\n",
    "Заказчику важны:\n",
    "\n",
    "- качество предсказания;\n",
    "- скорость предсказания;\n",
    "- время обучения."
   ]
  },
  {
   "cell_type": "markdown",
   "metadata": {},
   "source": [
    "## Подготовка данных"
   ]
  },
  {
   "cell_type": "code",
   "execution_count": 1,
   "metadata": {},
   "outputs": [],
   "source": [
    "import pandas as pd\n",
    "import matplotlib.pyplot as plt\n",
    "import seaborn as sns\n",
    "import numpy as np\n",
    "from catboost import CatBoostRegressor, Pool\n",
    "from sklearn.model_selection import train_test_split, GridSearchCV\n",
    "from sklearn.metrics import mean_squared_error\n",
    "from sklearn.ensemble import RandomForestRegressor\n",
    "from sklearn.preprocessing import OrdinalEncoder \n",
    "from lightgbm import LGBMRegressor\n",
    "import time"
   ]
  },
  {
   "cell_type": "code",
   "execution_count": 2,
   "metadata": {},
   "outputs": [],
   "source": [
    "import warnings\n",
    "warnings.filterwarnings(\"ignore\")"
   ]
  },
  {
   "cell_type": "markdown",
   "metadata": {},
   "source": [
    "ПРОСМАТРИВАЕМ ДАННЫЕ"
   ]
  },
  {
   "cell_type": "code",
   "execution_count": 3,
   "metadata": {},
   "outputs": [],
   "source": [
    "data = pd.read_csv('/datasets/autos.csv')"
   ]
  },
  {
   "cell_type": "code",
   "execution_count": 4,
   "metadata": {},
   "outputs": [
    {
     "data": {
      "text/html": [
       "<div>\n",
       "<style scoped>\n",
       "    .dataframe tbody tr th:only-of-type {\n",
       "        vertical-align: middle;\n",
       "    }\n",
       "\n",
       "    .dataframe tbody tr th {\n",
       "        vertical-align: top;\n",
       "    }\n",
       "\n",
       "    .dataframe thead th {\n",
       "        text-align: right;\n",
       "    }\n",
       "</style>\n",
       "<table border=\"1\" class=\"dataframe\">\n",
       "  <thead>\n",
       "    <tr style=\"text-align: right;\">\n",
       "      <th></th>\n",
       "      <th>DateCrawled</th>\n",
       "      <th>Price</th>\n",
       "      <th>VehicleType</th>\n",
       "      <th>RegistrationYear</th>\n",
       "      <th>Gearbox</th>\n",
       "      <th>Power</th>\n",
       "      <th>Model</th>\n",
       "      <th>Kilometer</th>\n",
       "      <th>RegistrationMonth</th>\n",
       "      <th>FuelType</th>\n",
       "      <th>Brand</th>\n",
       "      <th>Repaired</th>\n",
       "      <th>DateCreated</th>\n",
       "      <th>NumberOfPictures</th>\n",
       "      <th>PostalCode</th>\n",
       "      <th>LastSeen</th>\n",
       "    </tr>\n",
       "  </thead>\n",
       "  <tbody>\n",
       "    <tr>\n",
       "      <th>0</th>\n",
       "      <td>2016-03-24 11:52:17</td>\n",
       "      <td>480</td>\n",
       "      <td>NaN</td>\n",
       "      <td>1993</td>\n",
       "      <td>manual</td>\n",
       "      <td>0</td>\n",
       "      <td>golf</td>\n",
       "      <td>150000</td>\n",
       "      <td>0</td>\n",
       "      <td>petrol</td>\n",
       "      <td>volkswagen</td>\n",
       "      <td>NaN</td>\n",
       "      <td>2016-03-24 00:00:00</td>\n",
       "      <td>0</td>\n",
       "      <td>70435</td>\n",
       "      <td>2016-04-07 03:16:57</td>\n",
       "    </tr>\n",
       "    <tr>\n",
       "      <th>1</th>\n",
       "      <td>2016-03-24 10:58:45</td>\n",
       "      <td>18300</td>\n",
       "      <td>coupe</td>\n",
       "      <td>2011</td>\n",
       "      <td>manual</td>\n",
       "      <td>190</td>\n",
       "      <td>NaN</td>\n",
       "      <td>125000</td>\n",
       "      <td>5</td>\n",
       "      <td>gasoline</td>\n",
       "      <td>audi</td>\n",
       "      <td>yes</td>\n",
       "      <td>2016-03-24 00:00:00</td>\n",
       "      <td>0</td>\n",
       "      <td>66954</td>\n",
       "      <td>2016-04-07 01:46:50</td>\n",
       "    </tr>\n",
       "    <tr>\n",
       "      <th>2</th>\n",
       "      <td>2016-03-14 12:52:21</td>\n",
       "      <td>9800</td>\n",
       "      <td>suv</td>\n",
       "      <td>2004</td>\n",
       "      <td>auto</td>\n",
       "      <td>163</td>\n",
       "      <td>grand</td>\n",
       "      <td>125000</td>\n",
       "      <td>8</td>\n",
       "      <td>gasoline</td>\n",
       "      <td>jeep</td>\n",
       "      <td>NaN</td>\n",
       "      <td>2016-03-14 00:00:00</td>\n",
       "      <td>0</td>\n",
       "      <td>90480</td>\n",
       "      <td>2016-04-05 12:47:46</td>\n",
       "    </tr>\n",
       "    <tr>\n",
       "      <th>3</th>\n",
       "      <td>2016-03-17 16:54:04</td>\n",
       "      <td>1500</td>\n",
       "      <td>small</td>\n",
       "      <td>2001</td>\n",
       "      <td>manual</td>\n",
       "      <td>75</td>\n",
       "      <td>golf</td>\n",
       "      <td>150000</td>\n",
       "      <td>6</td>\n",
       "      <td>petrol</td>\n",
       "      <td>volkswagen</td>\n",
       "      <td>no</td>\n",
       "      <td>2016-03-17 00:00:00</td>\n",
       "      <td>0</td>\n",
       "      <td>91074</td>\n",
       "      <td>2016-03-17 17:40:17</td>\n",
       "    </tr>\n",
       "    <tr>\n",
       "      <th>4</th>\n",
       "      <td>2016-03-31 17:25:20</td>\n",
       "      <td>3600</td>\n",
       "      <td>small</td>\n",
       "      <td>2008</td>\n",
       "      <td>manual</td>\n",
       "      <td>69</td>\n",
       "      <td>fabia</td>\n",
       "      <td>90000</td>\n",
       "      <td>7</td>\n",
       "      <td>gasoline</td>\n",
       "      <td>skoda</td>\n",
       "      <td>no</td>\n",
       "      <td>2016-03-31 00:00:00</td>\n",
       "      <td>0</td>\n",
       "      <td>60437</td>\n",
       "      <td>2016-04-06 10:17:21</td>\n",
       "    </tr>\n",
       "  </tbody>\n",
       "</table>\n",
       "</div>"
      ],
      "text/plain": [
       "           DateCrawled  Price VehicleType  RegistrationYear Gearbox  Power  \\\n",
       "0  2016-03-24 11:52:17    480         NaN              1993  manual      0   \n",
       "1  2016-03-24 10:58:45  18300       coupe              2011  manual    190   \n",
       "2  2016-03-14 12:52:21   9800         suv              2004    auto    163   \n",
       "3  2016-03-17 16:54:04   1500       small              2001  manual     75   \n",
       "4  2016-03-31 17:25:20   3600       small              2008  manual     69   \n",
       "\n",
       "   Model  Kilometer  RegistrationMonth  FuelType       Brand Repaired  \\\n",
       "0   golf     150000                  0    petrol  volkswagen      NaN   \n",
       "1    NaN     125000                  5  gasoline        audi      yes   \n",
       "2  grand     125000                  8  gasoline        jeep      NaN   \n",
       "3   golf     150000                  6    petrol  volkswagen       no   \n",
       "4  fabia      90000                  7  gasoline       skoda       no   \n",
       "\n",
       "           DateCreated  NumberOfPictures  PostalCode             LastSeen  \n",
       "0  2016-03-24 00:00:00                 0       70435  2016-04-07 03:16:57  \n",
       "1  2016-03-24 00:00:00                 0       66954  2016-04-07 01:46:50  \n",
       "2  2016-03-14 00:00:00                 0       90480  2016-04-05 12:47:46  \n",
       "3  2016-03-17 00:00:00                 0       91074  2016-03-17 17:40:17  \n",
       "4  2016-03-31 00:00:00                 0       60437  2016-04-06 10:17:21  "
      ]
     },
     "metadata": {},
     "output_type": "display_data"
    },
    {
     "name": "stdout",
     "output_type": "stream",
     "text": [
      "<class 'pandas.core.frame.DataFrame'>\n",
      "RangeIndex: 354369 entries, 0 to 354368\n",
      "Data columns (total 16 columns):\n",
      " #   Column             Non-Null Count   Dtype \n",
      "---  ------             --------------   ----- \n",
      " 0   DateCrawled        354369 non-null  object\n",
      " 1   Price              354369 non-null  int64 \n",
      " 2   VehicleType        316879 non-null  object\n",
      " 3   RegistrationYear   354369 non-null  int64 \n",
      " 4   Gearbox            334536 non-null  object\n",
      " 5   Power              354369 non-null  int64 \n",
      " 6   Model              334664 non-null  object\n",
      " 7   Kilometer          354369 non-null  int64 \n",
      " 8   RegistrationMonth  354369 non-null  int64 \n",
      " 9   FuelType           321474 non-null  object\n",
      " 10  Brand              354369 non-null  object\n",
      " 11  Repaired           283215 non-null  object\n",
      " 12  DateCreated        354369 non-null  object\n",
      " 13  NumberOfPictures   354369 non-null  int64 \n",
      " 14  PostalCode         354369 non-null  int64 \n",
      " 15  LastSeen           354369 non-null  object\n",
      "dtypes: int64(7), object(9)\n",
      "memory usage: 43.3+ MB\n",
      "None\n"
     ]
    },
    {
     "data": {
      "text/html": [
       "<div>\n",
       "<style scoped>\n",
       "    .dataframe tbody tr th:only-of-type {\n",
       "        vertical-align: middle;\n",
       "    }\n",
       "\n",
       "    .dataframe tbody tr th {\n",
       "        vertical-align: top;\n",
       "    }\n",
       "\n",
       "    .dataframe thead th {\n",
       "        text-align: right;\n",
       "    }\n",
       "</style>\n",
       "<table border=\"1\" class=\"dataframe\">\n",
       "  <thead>\n",
       "    <tr style=\"text-align: right;\">\n",
       "      <th></th>\n",
       "      <th>Price</th>\n",
       "      <th>RegistrationYear</th>\n",
       "      <th>Power</th>\n",
       "      <th>Kilometer</th>\n",
       "      <th>RegistrationMonth</th>\n",
       "      <th>NumberOfPictures</th>\n",
       "      <th>PostalCode</th>\n",
       "    </tr>\n",
       "  </thead>\n",
       "  <tbody>\n",
       "    <tr>\n",
       "      <th>count</th>\n",
       "      <td>354369.000000</td>\n",
       "      <td>354369.000000</td>\n",
       "      <td>354369.000000</td>\n",
       "      <td>354369.000000</td>\n",
       "      <td>354369.000000</td>\n",
       "      <td>354369.0</td>\n",
       "      <td>354369.000000</td>\n",
       "    </tr>\n",
       "    <tr>\n",
       "      <th>mean</th>\n",
       "      <td>4416.656776</td>\n",
       "      <td>2004.234448</td>\n",
       "      <td>110.094337</td>\n",
       "      <td>128211.172535</td>\n",
       "      <td>5.714645</td>\n",
       "      <td>0.0</td>\n",
       "      <td>50508.689087</td>\n",
       "    </tr>\n",
       "    <tr>\n",
       "      <th>std</th>\n",
       "      <td>4514.158514</td>\n",
       "      <td>90.227958</td>\n",
       "      <td>189.850405</td>\n",
       "      <td>37905.341530</td>\n",
       "      <td>3.726421</td>\n",
       "      <td>0.0</td>\n",
       "      <td>25783.096248</td>\n",
       "    </tr>\n",
       "    <tr>\n",
       "      <th>min</th>\n",
       "      <td>0.000000</td>\n",
       "      <td>1000.000000</td>\n",
       "      <td>0.000000</td>\n",
       "      <td>5000.000000</td>\n",
       "      <td>0.000000</td>\n",
       "      <td>0.0</td>\n",
       "      <td>1067.000000</td>\n",
       "    </tr>\n",
       "    <tr>\n",
       "      <th>25%</th>\n",
       "      <td>1050.000000</td>\n",
       "      <td>1999.000000</td>\n",
       "      <td>69.000000</td>\n",
       "      <td>125000.000000</td>\n",
       "      <td>3.000000</td>\n",
       "      <td>0.0</td>\n",
       "      <td>30165.000000</td>\n",
       "    </tr>\n",
       "    <tr>\n",
       "      <th>50%</th>\n",
       "      <td>2700.000000</td>\n",
       "      <td>2003.000000</td>\n",
       "      <td>105.000000</td>\n",
       "      <td>150000.000000</td>\n",
       "      <td>6.000000</td>\n",
       "      <td>0.0</td>\n",
       "      <td>49413.000000</td>\n",
       "    </tr>\n",
       "    <tr>\n",
       "      <th>75%</th>\n",
       "      <td>6400.000000</td>\n",
       "      <td>2008.000000</td>\n",
       "      <td>143.000000</td>\n",
       "      <td>150000.000000</td>\n",
       "      <td>9.000000</td>\n",
       "      <td>0.0</td>\n",
       "      <td>71083.000000</td>\n",
       "    </tr>\n",
       "    <tr>\n",
       "      <th>max</th>\n",
       "      <td>20000.000000</td>\n",
       "      <td>9999.000000</td>\n",
       "      <td>20000.000000</td>\n",
       "      <td>150000.000000</td>\n",
       "      <td>12.000000</td>\n",
       "      <td>0.0</td>\n",
       "      <td>99998.000000</td>\n",
       "    </tr>\n",
       "  </tbody>\n",
       "</table>\n",
       "</div>"
      ],
      "text/plain": [
       "               Price  RegistrationYear          Power      Kilometer  \\\n",
       "count  354369.000000     354369.000000  354369.000000  354369.000000   \n",
       "mean     4416.656776       2004.234448     110.094337  128211.172535   \n",
       "std      4514.158514         90.227958     189.850405   37905.341530   \n",
       "min         0.000000       1000.000000       0.000000    5000.000000   \n",
       "25%      1050.000000       1999.000000      69.000000  125000.000000   \n",
       "50%      2700.000000       2003.000000     105.000000  150000.000000   \n",
       "75%      6400.000000       2008.000000     143.000000  150000.000000   \n",
       "max     20000.000000       9999.000000   20000.000000  150000.000000   \n",
       "\n",
       "       RegistrationMonth  NumberOfPictures     PostalCode  \n",
       "count      354369.000000          354369.0  354369.000000  \n",
       "mean            5.714645               0.0   50508.689087  \n",
       "std             3.726421               0.0   25783.096248  \n",
       "min             0.000000               0.0    1067.000000  \n",
       "25%             3.000000               0.0   30165.000000  \n",
       "50%             6.000000               0.0   49413.000000  \n",
       "75%             9.000000               0.0   71083.000000  \n",
       "max            12.000000               0.0   99998.000000  "
      ]
     },
     "metadata": {},
     "output_type": "display_data"
    },
    {
     "name": "stdout",
     "output_type": "stream",
     "text": [
      "Кол-во дубликатов: 4\n"
     ]
    }
   ],
   "source": [
    "display(data.head())\n",
    "print(data.info())\n",
    "display(data.describe())\n",
    "print('Кол-во дубликатов:', data.duplicated().sum())"
   ]
  },
  {
   "cell_type": "code",
   "execution_count": 5,
   "metadata": {},
   "outputs": [
    {
     "data": {
      "image/png": "[encoded data removed]",
      "text/plain": [
       "<Figure size 1440x720 with 2 Axes>"
      ]
     },
     "metadata": {
      "needs_background": "light"
     },
     "output_type": "display_data"
    }
   ],
   "source": [
    "plt.figure(figsize=(20, 10))\n",
    "plt.title('Корреляция признаков', weight = 'bold')\n",
    "cmap = sns.diverging_palette(230, 20, as_cmap=True)\n",
    "sns.heatmap(data.corr(method='spearman'), annot = True, cmap=cmap)\n",
    "plt.show()"
   ]
  },
  {
   "cell_type": "markdown",
   "metadata": {},
   "source": [
    "РАБОТАЕМ С ДАННЫМИ"
   ]
  },
  {
   "cell_type": "code",
   "execution_count": 6,
   "metadata": {},
   "outputs": [],
   "source": [
    "# Удаляем ненужные колонки, т.к сейчас сам ищу машину, то на такие данные как DataCreated, PostalCode, RegistrationMonth,\n",
    "# LastSeen, почти никогда не обращаю внимания и + можно увидеть, что корреляция с ними низкая.\n",
    "# NumderOfPictures удаляем, т.к неинформативная полностью (единственное значение это 0)\n",
    "\n",
    "data = data.drop([\"DateCrawled\", \"DateCreated\", \"LastSeen\", \"NumberOfPictures\", \"PostalCode\", \"RegistrationMonth\"], axis = 1)"
   ]
  },
  {
   "cell_type": "markdown",
   "metadata": {},
   "source": [
    "Целевой признак"
   ]
  },
  {
   "cell_type": "code",
   "execution_count": 7,
   "metadata": {},
   "outputs": [
    {
     "data": {
      "text/plain": [
       "0        10772\n",
       "500       5670\n",
       "1500      5394\n",
       "1000      4649\n",
       "1200      4594\n",
       "         ...  \n",
       "13180        1\n",
       "10879        1\n",
       "2683         1\n",
       "634          1\n",
       "8188         1\n",
       "Name: Price, Length: 3731, dtype: int64"
      ]
     },
     "execution_count": 7,
     "metadata": {},
     "output_type": "execute_result"
    }
   ],
   "source": [
    "data['Price'].value_counts()"
   ]
  },
  {
   "cell_type": "code",
   "execution_count": 8,
   "metadata": {},
   "outputs": [],
   "source": [
    "# Т.к цена на машину в 0р ничего модели не даст, предлагаю срезать таблицу со всеми нулевыми значениями\n",
    "\n",
    "data = data.query('Price > 0')"
   ]
  },
  {
   "cell_type": "code",
   "execution_count": 9,
   "metadata": {
    "scrolled": true
   },
   "outputs": [
    {
     "data": {
      "image/png": "[encoded data removed]",
      "text/plain": [
       "<Figure size 1440x360 with 1 Axes>"
      ]
     },
     "metadata": {
      "needs_background": "light"
     },
     "output_type": "display_data"
    },
    {
     "data": {
      "image/png": "[encoded data removed]",
      "text/plain": [
       "<Figure size 720x216 with 1 Axes>"
      ]
     },
     "metadata": {
      "needs_background": "light"
     },
     "output_type": "display_data"
    }
   ],
   "source": [
    "# Смотрю гистограмму и ящик с усами для целевого признака\n",
    "\n",
    "data['Price'].hist(bins = 200, figsize = (20,5))\n",
    "\n",
    "plt.figure(figsize = (10,3))\n",
    "sns.boxplot(data = data['Price'], orient='h')\n",
    "plt.title('Ящик с усами для целевого признака')\n",
    "plt.show()"
   ]
  },
  {
   "cell_type": "code",
   "execution_count": 10,
   "metadata": {},
   "outputs": [
    {
     "data": {
      "text/plain": [
       "0.05      350.0\n",
       "0.95    14800.0\n",
       "Name: Price, dtype: float64"
      ]
     },
     "execution_count": 10,
     "metadata": {},
     "output_type": "execute_result"
    }
   ],
   "source": [
    "# Поскольку на гистограмме и ящике с усами странные данные у нуля и длинный хвост возле 15000, смотрю квантили\n",
    "data['Price'].quantile([0.05, 0.95])"
   ]
  },
  {
   "cell_type": "code",
   "execution_count": 11,
   "metadata": {},
   "outputs": [
    {
     "data": {
      "text/plain": [
       "0.09517254225153304"
      ]
     },
     "execution_count": 11,
     "metadata": {},
     "output_type": "execute_result"
    }
   ],
   "source": [
    "1 - data.query('350 <= Price <= 14800').shape[0] / data.shape[0]"
   ]
  },
  {
   "cell_type": "code",
   "execution_count": 12,
   "metadata": {},
   "outputs": [],
   "source": [
    "# Избавляюсь от 10% строк, где цена меньше 350 и больше 14800\n",
    "data = data.query('350 <= Price <= 14800')"
   ]
  },
  {
   "cell_type": "markdown",
   "metadata": {},
   "source": [
    "Год регистрации"
   ]
  },
  {
   "cell_type": "code",
   "execution_count": 13,
   "metadata": {},
   "outputs": [
    {
     "data": {
      "text/plain": [
       "2000    20907\n",
       "2005    20811\n",
       "1999    20622\n",
       "2003    19218\n",
       "2001    19092\n",
       "        ...  \n",
       "1948        1\n",
       "1949        1\n",
       "5300        1\n",
       "8888        1\n",
       "2290        1\n",
       "Name: RegistrationYear, Length: 130, dtype: int64"
      ]
     },
     "execution_count": 13,
     "metadata": {},
     "output_type": "execute_result"
    }
   ],
   "source": [
    "data['RegistrationYear'].value_counts()"
   ]
  },
  {
   "cell_type": "code",
   "execution_count": 14,
   "metadata": {},
   "outputs": [
    {
     "data": {
      "text/html": [
       "<div>\n",
       "<style scoped>\n",
       "    .dataframe tbody tr th:only-of-type {\n",
       "        vertical-align: middle;\n",
       "    }\n",
       "\n",
       "    .dataframe tbody tr th {\n",
       "        vertical-align: top;\n",
       "    }\n",
       "\n",
       "    .dataframe thead th {\n",
       "        text-align: right;\n",
       "    }\n",
       "</style>\n",
       "<table border=\"1\" class=\"dataframe\">\n",
       "  <thead>\n",
       "    <tr style=\"text-align: right;\">\n",
       "      <th></th>\n",
       "      <th>quantity</th>\n",
       "    </tr>\n",
       "    <tr>\n",
       "      <th>RegistrationYear</th>\n",
       "      <th></th>\n",
       "    </tr>\n",
       "  </thead>\n",
       "  <tbody>\n",
       "    <tr>\n",
       "      <th>1000</th>\n",
       "      <td>18</td>\n",
       "    </tr>\n",
       "    <tr>\n",
       "      <th>1001</th>\n",
       "      <td>1</td>\n",
       "    </tr>\n",
       "    <tr>\n",
       "      <th>1039</th>\n",
       "      <td>1</td>\n",
       "    </tr>\n",
       "    <tr>\n",
       "      <th>1111</th>\n",
       "      <td>1</td>\n",
       "    </tr>\n",
       "    <tr>\n",
       "      <th>1234</th>\n",
       "      <td>2</td>\n",
       "    </tr>\n",
       "    <tr>\n",
       "      <th>...</th>\n",
       "      <td>...</td>\n",
       "    </tr>\n",
       "    <tr>\n",
       "      <th>8500</th>\n",
       "      <td>1</td>\n",
       "    </tr>\n",
       "    <tr>\n",
       "      <th>8888</th>\n",
       "      <td>1</td>\n",
       "    </tr>\n",
       "    <tr>\n",
       "      <th>9000</th>\n",
       "      <td>2</td>\n",
       "    </tr>\n",
       "    <tr>\n",
       "      <th>9450</th>\n",
       "      <td>1</td>\n",
       "    </tr>\n",
       "    <tr>\n",
       "      <th>9999</th>\n",
       "      <td>10</td>\n",
       "    </tr>\n",
       "  </tbody>\n",
       "</table>\n",
       "<p>130 rows × 1 columns</p>\n",
       "</div>"
      ],
      "text/plain": [
       "                  quantity\n",
       "RegistrationYear          \n",
       "1000                    18\n",
       "1001                     1\n",
       "1039                     1\n",
       "1111                     1\n",
       "1234                     2\n",
       "...                    ...\n",
       "8500                     1\n",
       "8888                     1\n",
       "9000                     2\n",
       "9450                     1\n",
       "9999                    10\n",
       "\n",
       "[130 rows x 1 columns]"
      ]
     },
     "execution_count": 14,
     "metadata": {},
     "output_type": "execute_result"
    }
   ],
   "source": [
    "years = data.pivot_table(index='RegistrationYear', values='Brand', aggfunc='count')\n",
    "years.columns = ['quantity']\n",
    "years"
   ]
  },
  {
   "cell_type": "code",
   "execution_count": 15,
   "metadata": {},
   "outputs": [
    {
     "data": {
      "image/png": "[encoded data removed]",
      "text/plain": [
       "<Figure size 1440x360 with 1 Axes>"
      ]
     },
     "metadata": {
      "needs_background": "light"
     },
     "output_type": "display_data"
    }
   ],
   "source": [
    "# Строим график\n",
    "years.plot.bar(figsize = (20,5))\n",
    "plt.title('Годы регистрации')\n",
    "plt.show()"
   ]
  },
  {
   "cell_type": "code",
   "execution_count": 16,
   "metadata": {},
   "outputs": [
    {
     "data": {
      "text/plain": [
       "0.04494429005197875"
      ]
     },
     "execution_count": 16,
     "metadata": {},
     "output_type": "execute_result"
    }
   ],
   "source": [
    "1 - data.query('1970 <= RegistrationYear <= 2016').shape[0] / data.shape[0]"
   ]
  },
  {
   "cell_type": "code",
   "execution_count": 17,
   "metadata": {},
   "outputs": [],
   "source": [
    "# Вряд ли авто ранее 1970 и позже 2016 (органичение данных) были поставлены на учет и на продажу\n",
    "# поэтому оставляю в таблице только годы регистрации с 1970 по 2016:\n",
    "\n",
    "data = data.query('1970 <= RegistrationYear <= 2016')"
   ]
  },
  {
   "cell_type": "markdown",
   "metadata": {},
   "source": [
    "Мощность"
   ]
  },
  {
   "cell_type": "code",
   "execution_count": 18,
   "metadata": {},
   "outputs": [
    {
     "data": {
      "text/plain": [
       "0        27026\n",
       "75       20658\n",
       "60       13073\n",
       "150      13019\n",
       "101      12113\n",
       "         ...  \n",
       "1703         1\n",
       "1339         1\n",
       "2729         1\n",
       "1704         1\n",
       "17019        1\n",
       "Name: Power, Length: 628, dtype: int64"
      ]
     },
     "execution_count": 18,
     "metadata": {},
     "output_type": "execute_result"
    }
   ],
   "source": [
    "# Смотрю значения в power\n",
    "data['Power'].value_counts()"
   ]
  },
  {
   "cell_type": "code",
   "execution_count": 19,
   "metadata": {},
   "outputs": [],
   "source": [
    "# Поскольку самое мощное по состоянию на 2024 год легковое авто имеет 1600лс,\n",
    "# а самое слабое имеет 5лс,  \n",
    "# то уберу из таблицы всё, что выше и ниже этих границ:\n",
    "data = data.query('5 <= Power <= 1600')"
   ]
  },
  {
   "cell_type": "markdown",
   "metadata": {},
   "source": [
    "Километраж"
   ]
  },
  {
   "cell_type": "code",
   "execution_count": 20,
   "metadata": {},
   "outputs": [
    {
     "data": {
      "text/plain": [
       "150000    183801\n",
       "125000     29206\n",
       "100000     11439\n",
       "90000       9069\n",
       "80000       7791\n",
       "70000       6578\n",
       "60000       5616\n",
       "50000       4491\n",
       "40000       3472\n",
       "30000       2949\n",
       "20000       2384\n",
       "5000        2300\n",
       "10000        600\n",
       "Name: Kilometer, dtype: int64"
      ]
     },
     "execution_count": 20,
     "metadata": {},
     "output_type": "execute_result"
    }
   ],
   "source": [
    "data['Kilometer'].value_counts()"
   ]
  },
  {
   "cell_type": "markdown",
   "metadata": {},
   "source": [
    "Данные вполне достоверны"
   ]
  },
  {
   "cell_type": "markdown",
   "metadata": {},
   "source": [
    "Бренд"
   ]
  },
  {
   "cell_type": "code",
   "execution_count": 21,
   "metadata": {},
   "outputs": [
    {
     "data": {
      "text/plain": [
       "volkswagen        58491\n",
       "opel              29922\n",
       "bmw               28908\n",
       "mercedes_benz     24545\n",
       "audi              22572\n",
       "ford              18535\n",
       "renault           12937\n",
       "peugeot            8950\n",
       "fiat               7085\n",
       "seat               5416\n",
       "skoda              4587\n",
       "smart              4450\n",
       "mazda              4447\n",
       "citroen            4019\n",
       "toyota             3855\n",
       "nissan             3602\n",
       "hyundai            2887\n",
       "volvo              2570\n",
       "mini               2494\n",
       "mitsubishi         2286\n",
       "honda              2272\n",
       "kia                1912\n",
       "alfa_romeo         1856\n",
       "suzuki             1849\n",
       "sonstige_autos     1379\n",
       "chevrolet          1355\n",
       "chrysler           1093\n",
       "dacia               785\n",
       "subaru              571\n",
       "daihatsu            557\n",
       "jeep                495\n",
       "saab                444\n",
       "porsche             398\n",
       "jaguar              374\n",
       "land_rover          367\n",
       "daewoo              366\n",
       "lancia              344\n",
       "rover               328\n",
       "trabant             237\n",
       "lada                156\n",
       "Name: Brand, dtype: int64"
      ]
     },
     "execution_count": 21,
     "metadata": {},
     "output_type": "execute_result"
    }
   ],
   "source": [
    "data['Brand'].value_counts()"
   ]
  },
  {
   "cell_type": "markdown",
   "metadata": {},
   "source": [
    "Дубликатов не вижу"
   ]
  },
  {
   "cell_type": "markdown",
   "metadata": {},
   "source": [
    "Модель"
   ]
  },
  {
   "cell_type": "code",
   "execution_count": 22,
   "metadata": {},
   "outputs": [
    {
     "data": {
      "text/plain": [
       "golf                  22615\n",
       "other                 18223\n",
       "3er                   16109\n",
       "polo                   9734\n",
       "unknown                9724\n",
       "                      ...  \n",
       "amarok                    3\n",
       "gl                        2\n",
       "serie_3                   2\n",
       "range_rover_evoque        2\n",
       "rangerover                1\n",
       "Name: Model, Length: 250, dtype: int64"
      ]
     },
     "execution_count": 22,
     "metadata": {},
     "output_type": "execute_result"
    }
   ],
   "source": [
    "# Заменяю NaN на 'unknown'\n",
    "data[\"Model\"] = data[\"Model\"].fillna('unknown')\n",
    "data['Model'].value_counts()"
   ]
  },
  {
   "cell_type": "markdown",
   "metadata": {},
   "source": [
    "Коробка передач"
   ]
  },
  {
   "cell_type": "code",
   "execution_count": 23,
   "metadata": {},
   "outputs": [
    {
     "data": {
      "text/plain": [
       "manual    214192\n",
       "auto       50795\n",
       "Name: Gearbox, dtype: int64"
      ]
     },
     "execution_count": 23,
     "metadata": {},
     "output_type": "execute_result"
    }
   ],
   "source": [
    "data['Gearbox'].value_counts()"
   ]
  },
  {
   "cell_type": "code",
   "execution_count": 24,
   "metadata": {},
   "outputs": [],
   "source": [
    "# В голове 3 идеи: 1. Удалить пропуски и превратить в категориальную переменную. \n",
    "# 2. Удалить пропуски и оставить как есть\n",
    "# 3. Заменить пропуски на unknown и оставить как есть. <-- делаем\n",
    "\n",
    "data[\"Gearbox\"] = data[\"Gearbox\"].fillna('unknown')"
   ]
  },
  {
   "cell_type": "markdown",
   "metadata": {},
   "source": [
    "Ремонт"
   ]
  },
  {
   "cell_type": "code",
   "execution_count": 25,
   "metadata": {},
   "outputs": [],
   "source": [
    "# Схема та же, что и с коробкой.\n",
    "# Изначально заполнил на no, потому что подумал, что если не было ремонта, то чисто машинально пропускаешь этот пункт))\n",
    "data[\"Repaired\"] = data[\"Repaired\"].fillna('unknown')"
   ]
  },
  {
   "cell_type": "markdown",
   "metadata": {},
   "source": [
    "Тип кузова"
   ]
  },
  {
   "cell_type": "code",
   "execution_count": 26,
   "metadata": {},
   "outputs": [
    {
     "data": {
      "text/plain": [
       "sedan          76564\n",
       "small          64807\n",
       "wagon          54760\n",
       "bus            24471\n",
       "convertible    16506\n",
       "coupe          12406\n",
       "unknown         9238\n",
       "suv             8707\n",
       "other           2237\n",
       "Name: VehicleType, dtype: int64"
      ]
     },
     "execution_count": 26,
     "metadata": {},
     "output_type": "execute_result"
    }
   ],
   "source": [
    "data[\"VehicleType\"] = data[\"VehicleType\"].fillna('unknown')\n",
    "data['VehicleType'].value_counts()"
   ]
  },
  {
   "cell_type": "markdown",
   "metadata": {},
   "source": [
    "Тип топлива"
   ]
  },
  {
   "cell_type": "code",
   "execution_count": 27,
   "metadata": {},
   "outputs": [
    {
     "data": {
      "text/plain": [
       "petrol      172172\n",
       "gasoline     78732\n",
       "unknown      13502\n",
       "lpg           4533\n",
       "cng            469\n",
       "hybrid         154\n",
       "other           72\n",
       "electric        62\n",
       "Name: FuelType, dtype: int64"
      ]
     },
     "execution_count": 27,
     "metadata": {},
     "output_type": "execute_result"
    }
   ],
   "source": [
    "data[\"FuelType\"] = data[\"FuelType\"].fillna('unknown')\n",
    "data['FuelType'].value_counts()"
   ]
  },
  {
   "cell_type": "code",
   "execution_count": 28,
   "metadata": {},
   "outputs": [],
   "source": [
    "data = data.drop_duplicates()"
   ]
  },
  {
   "cell_type": "code",
   "execution_count": 29,
   "metadata": {},
   "outputs": [
    {
     "name": "stdout",
     "output_type": "stream",
     "text": [
      "<class 'pandas.core.frame.DataFrame'>\n",
      "Int64Index: 232885 entries, 2 to 354368\n",
      "Data columns (total 10 columns):\n",
      " #   Column            Non-Null Count   Dtype \n",
      "---  ------            --------------   ----- \n",
      " 0   Price             232885 non-null  int64 \n",
      " 1   VehicleType       232885 non-null  object\n",
      " 2   RegistrationYear  232885 non-null  int64 \n",
      " 3   Gearbox           232885 non-null  object\n",
      " 4   Power             232885 non-null  int64 \n",
      " 5   Model             232885 non-null  object\n",
      " 6   Kilometer         232885 non-null  int64 \n",
      " 7   FuelType          232885 non-null  object\n",
      " 8   Brand             232885 non-null  object\n",
      " 9   Repaired          232885 non-null  object\n",
      "dtypes: int64(4), object(6)\n",
      "memory usage: 19.5+ MB\n",
      "None\n"
     ]
    },
    {
     "data": {
      "text/html": [
       "<div>\n",
       "<style scoped>\n",
       "    .dataframe tbody tr th:only-of-type {\n",
       "        vertical-align: middle;\n",
       "    }\n",
       "\n",
       "    .dataframe tbody tr th {\n",
       "        vertical-align: top;\n",
       "    }\n",
       "\n",
       "    .dataframe thead th {\n",
       "        text-align: right;\n",
       "    }\n",
       "</style>\n",
       "<table border=\"1\" class=\"dataframe\">\n",
       "  <thead>\n",
       "    <tr style=\"text-align: right;\">\n",
       "      <th></th>\n",
       "      <th>Price</th>\n",
       "      <th>RegistrationYear</th>\n",
       "      <th>Power</th>\n",
       "      <th>Kilometer</th>\n",
       "    </tr>\n",
       "  </thead>\n",
       "  <tbody>\n",
       "    <tr>\n",
       "      <th>count</th>\n",
       "      <td>232885.000000</td>\n",
       "      <td>232885.000000</td>\n",
       "      <td>232885.000000</td>\n",
       "      <td>232885.000000</td>\n",
       "    </tr>\n",
       "    <tr>\n",
       "      <th>mean</th>\n",
       "      <td>4340.169414</td>\n",
       "      <td>2002.760891</td>\n",
       "      <td>119.824798</td>\n",
       "      <td>129216.480237</td>\n",
       "    </tr>\n",
       "    <tr>\n",
       "      <th>std</th>\n",
       "      <td>3612.010971</td>\n",
       "      <td>6.129859</td>\n",
       "      <td>57.009129</td>\n",
       "      <td>35648.895812</td>\n",
       "    </tr>\n",
       "    <tr>\n",
       "      <th>min</th>\n",
       "      <td>350.000000</td>\n",
       "      <td>1970.000000</td>\n",
       "      <td>5.000000</td>\n",
       "      <td>5000.000000</td>\n",
       "    </tr>\n",
       "    <tr>\n",
       "      <th>25%</th>\n",
       "      <td>1450.000000</td>\n",
       "      <td>1999.000000</td>\n",
       "      <td>80.000000</td>\n",
       "      <td>125000.000000</td>\n",
       "    </tr>\n",
       "    <tr>\n",
       "      <th>50%</th>\n",
       "      <td>3150.000000</td>\n",
       "      <td>2003.000000</td>\n",
       "      <td>110.000000</td>\n",
       "      <td>150000.000000</td>\n",
       "    </tr>\n",
       "    <tr>\n",
       "      <th>75%</th>\n",
       "      <td>6490.000000</td>\n",
       "      <td>2007.000000</td>\n",
       "      <td>145.000000</td>\n",
       "      <td>150000.000000</td>\n",
       "    </tr>\n",
       "    <tr>\n",
       "      <th>max</th>\n",
       "      <td>14800.000000</td>\n",
       "      <td>2016.000000</td>\n",
       "      <td>1600.000000</td>\n",
       "      <td>150000.000000</td>\n",
       "    </tr>\n",
       "  </tbody>\n",
       "</table>\n",
       "</div>"
      ],
      "text/plain": [
       "               Price  RegistrationYear          Power      Kilometer\n",
       "count  232885.000000     232885.000000  232885.000000  232885.000000\n",
       "mean     4340.169414       2002.760891     119.824798  129216.480237\n",
       "std      3612.010971          6.129859      57.009129   35648.895812\n",
       "min       350.000000       1970.000000       5.000000    5000.000000\n",
       "25%      1450.000000       1999.000000      80.000000  125000.000000\n",
       "50%      3150.000000       2003.000000     110.000000  150000.000000\n",
       "75%      6490.000000       2007.000000     145.000000  150000.000000\n",
       "max     14800.000000       2016.000000    1600.000000  150000.000000"
      ]
     },
     "metadata": {},
     "output_type": "display_data"
    }
   ],
   "source": [
    "print(data.info())\n",
    "display(data.describe())"
   ]
  },
  {
   "cell_type": "markdown",
   "metadata": {},
   "source": [
    "Выводы\n",
    "\n",
    "Дубликаты объектов: было найдено 5 штук - удалены\n",
    "\n",
    "Проверена корреляция: все в рамках разумных пределов, наиболее коррелирующими с целевым признаком являются признаки отвечающие за мощность и год\n",
    "\n",
    "Данные были очищены от выбросов"
   ]
  },
  {
   "cell_type": "markdown",
   "metadata": {},
   "source": [
    "## Обучение моделей"
   ]
  },
  {
   "cell_type": "code",
   "execution_count": 30,
   "metadata": {},
   "outputs": [],
   "source": [
    "target = data['Price']\n",
    "features = data.drop(['Price'], axis=1)"
   ]
  },
  {
   "cell_type": "code",
   "execution_count": 31,
   "metadata": {},
   "outputs": [],
   "source": [
    "features_ohe = pd.get_dummies(features, drop_first = True)"
   ]
  },
  {
   "cell_type": "code",
   "execution_count": 32,
   "metadata": {},
   "outputs": [],
   "source": [
    "features_train_ohe, features_test_ohe, target_train_ohe, target_test_ohe = train_test_split(features_ohe,\n",
    "                                                                                            target,\n",
    "                                                                                            test_size = 0.25,\n",
    "                                                                                            random_state = 12345)\n",
    "\n",
    "features_train, features_test, target_train, target_test = train_test_split(features,\n",
    "                                                                            target,\n",
    "                                                                            test_size = 0.25,\n",
    "                                                                            random_state = 12345)"
   ]
  },
  {
   "cell_type": "code",
   "execution_count": 33,
   "metadata": {},
   "outputs": [],
   "source": [
    "# Решил проверить оба кодирования\n",
    "encoder = OrdinalEncoder()\n",
    "\n",
    "features_train_oe = features_train[['VehicleType','FuelType','Brand','Model', 'Gearbox', 'Repaired']]\n",
    "features_train_oe = pd.DataFrame(encoder.fit_transform(features_train),\n",
    "                                 columns = features_train.columns,\n",
    "                                 index = features_train.index)\n",
    "\n",
    "features_test_oe = features_test[['VehicleType','FuelType','Brand','Model', 'Gearbox', 'Repaired']]\n",
    "features_test_oe = pd.DataFrame(encoder.fit_transform(features_test),\n",
    "                                columns=features_test.columns,\n",
    "                                index=features_test.index)"
   ]
  },
  {
   "cell_type": "markdown",
   "metadata": {},
   "source": [
    "Random Forest c OHE"
   ]
  },
  {
   "cell_type": "code",
   "execution_count": null,
   "metadata": {
    "scrolled": true
   },
   "outputs": [
    {
     "name": "stdout",
     "output_type": "stream",
     "text": [
      "Fitting 2 folds for each of 250 candidates, totalling 500 fits\n",
      "[CV 1/2] END max_depth=1, min_samples_leaf=1, n_estimators=1; total time=   0.5s\n",
      "[CV 2/2] END max_depth=1, min_samples_leaf=1, n_estimators=1; total time=   0.5s\n",
      "[CV 1/2] END max_depth=1, min_samples_leaf=1, n_estimators=11; total time=   1.2s\n",
      "[CV 2/2] END max_depth=1, min_samples_leaf=1, n_estimators=11; total time=   1.2s\n"
     ]
    }
   ],
   "source": [
    "model_rf = RandomForestRegressor()\n",
    "parametrs = {'n_estimators': range(1, 51, 10),\n",
    "            'max_depth': range(1, 51, 10),\n",
    "            'min_samples_leaf': range(1, 11, 1),\n",
    "            }\n",
    "grid_ohe = GridSearchCV(model_rf, parametrs, cv = 2, scoring = 'neg_root_mean_squared_error', n_jobs = -1, verbose = 3)\n",
    "grid_ohe.fit(features_train_ohe, target_train_ohe)"
   ]
  },
  {
   "cell_type": "code",
   "execution_count": null,
   "metadata": {},
   "outputs": [],
   "source": [
    "grid_ohe.best_params_"
   ]
  },
  {
   "cell_type": "code",
   "execution_count": null,
   "metadata": {},
   "outputs": [],
   "source": [
    "tic = time.time()\n",
    "rf_ohe = RandomForestRegressor(n_estimators = grid_ohe.best_params_['n_estimators'],\n",
    "                           max_depth = grid_ohe.best_params_['max_depth'],\n",
    "                           min_samples_leaf = grid_ohe.best_params_['min_samples_leaf'],\n",
    "                           random_state = 12345)\n",
    "rf_ohe.fit(features_train_ohe, target_train_ohe)\n",
    "toc = time.time()\n",
    "study_rf_ohe_time = toc - tic"
   ]
  },
  {
   "cell_type": "code",
   "execution_count": null,
   "metadata": {},
   "outputs": [],
   "source": [
    "tic = time.time()\n",
    "target_predict = rf_ohe.predict(features_train_ohe)\n",
    "toc = time.time()\n",
    "predict_rf_ohe_time = toc - tic"
   ]
  },
  {
   "cell_type": "code",
   "execution_count": null,
   "metadata": {},
   "outputs": [],
   "source": [
    "rmse_rf_ohe = mean_squared_error(target_train_ohe, target_predict) ** 0.5\n",
    "rmse_rf_ohe"
   ]
  },
  {
   "cell_type": "markdown",
   "metadata": {},
   "source": [
    "Random Forest c OE"
   ]
  },
  {
   "cell_type": "code",
   "execution_count": null,
   "metadata": {},
   "outputs": [],
   "source": [
    "grid_oe = GridSearchCV(model_rf, parametrs, cv = 2, scoring = 'neg_root_mean_squared_error', n_jobs = -1, verbose = 3)\n",
    "grid_oe.fit(features_train_oe, target_train)"
   ]
  },
  {
   "cell_type": "code",
   "execution_count": null,
   "metadata": {},
   "outputs": [],
   "source": [
    "grid_oe.best_params_"
   ]
  },
  {
   "cell_type": "code",
   "execution_count": null,
   "metadata": {},
   "outputs": [],
   "source": [
    "tic = time.time()\n",
    "rf_oe = RandomForestRegressor(n_estimators = grid_oe.best_params_['n_estimators'],\n",
    "                           max_depth = grid_oe.best_params_['max_depth'],\n",
    "                           min_samples_leaf = grid_oe.best_params_['min_samples_leaf'],\n",
    "                           random_state = 12345)\n",
    "rf_oe.fit(features_train_oe, target_train)\n",
    "toc = time.time()\n",
    "study_rf_oe_time = toc - tic"
   ]
  },
  {
   "cell_type": "code",
   "execution_count": null,
   "metadata": {},
   "outputs": [],
   "source": [
    "tic = time.time()\n",
    "target_predict = rf_oe.predict(features_train_oe)\n",
    "toc = time.time()\n",
    "predict_rf_oe_time = toc - tic"
   ]
  },
  {
   "cell_type": "code",
   "execution_count": null,
   "metadata": {},
   "outputs": [],
   "source": [
    "rmse_rf_oe = mean_squared_error(target_train, target_predict) ** 0.5\n",
    "rmse_rf_oe"
   ]
  },
  {
   "cell_type": "markdown",
   "metadata": {},
   "source": [
    "LightGBM c OHE"
   ]
  },
  {
   "cell_type": "code",
   "execution_count": null,
   "metadata": {},
   "outputs": [],
   "source": [
    "model_lgbmr = LGBMRegressor()  \n",
    "parameters = {'num_leaves': [25, 50, 100, 200], \n",
    "               'learning_rate': [0.1, 0.3, 0.5],\n",
    "              'max_depth': range(1, 51, 10)\n",
    "              }\n",
    "\n",
    "clf_ohe = GridSearchCV(model_lgbmr, parameters, cv = 2, scoring = 'neg_root_mean_squared_error', n_jobs = -1, verbose = 3)\n",
    "clf_ohe.fit(features_train_ohe, target_train_ohe)\n",
    "\n",
    "print(clf_ohe.best_params_)"
   ]
  },
  {
   "cell_type": "code",
   "execution_count": null,
   "metadata": {},
   "outputs": [],
   "source": [
    "tic = time.time()\n",
    "model_lgbmr_ohe = LGBMRegressor(learning_rate = clf_ohe.best_params_['learning_rate'], \n",
    "                            num_leaves = clf_ohe.best_params_['num_leaves'], \n",
    "                            max_depth = clf_ohe.best_params_['max_depth'],\n",
    "                            random_state = 12345)\n",
    "model_lgbmr_ohe.fit(features_train_ohe, target_train_ohe)\n",
    "toc = time.time()\n",
    "study_lgbmr_ohe_time = toc - tic"
   ]
  },
  {
   "cell_type": "code",
   "execution_count": null,
   "metadata": {},
   "outputs": [],
   "source": [
    "tic = time.time()\n",
    "target_predict = model_lgbmr_ohe.predict(features_train_ohe)\n",
    "toc = time.time()\n",
    "predict_lgbmr_ohe_time = toc - tic"
   ]
  },
  {
   "cell_type": "code",
   "execution_count": null,
   "metadata": {},
   "outputs": [],
   "source": [
    "rmse_lgbmr_ohe = mean_squared_error(target_train_ohe, target_predict) ** 0.5\n",
    "rmse_lgbmr_ohe"
   ]
  },
  {
   "cell_type": "markdown",
   "metadata": {},
   "source": [
    "LihgtBMR c OE"
   ]
  },
  {
   "cell_type": "code",
   "execution_count": null,
   "metadata": {},
   "outputs": [],
   "source": [
    "clf_oe = GridSearchCV(model_lgbmr, parameters, cv = 2, scoring = 'neg_root_mean_squared_error', n_jobs = -1, verbose = 3)\n",
    "clf_oe.fit(features_train_oe, target_train)\n",
    "\n",
    "print(clf_oe.best_params_)"
   ]
  },
  {
   "cell_type": "code",
   "execution_count": null,
   "metadata": {},
   "outputs": [],
   "source": [
    "tic = time.time()\n",
    "model_lgbmr_oe = LGBMRegressor(learning_rate = clf_oe.best_params_['learning_rate'], \n",
    "                            num_leaves = clf_oe.best_params_['num_leaves'], \n",
    "                            max_depth = clf_oe.best_params_['max_depth'],\n",
    "                            random_state = 12345)\n",
    "model_lgbmr_oe.fit(features_train_oe, target_train)\n",
    "toc = time.time()\n",
    "study_lgbmr_oe_time = toc - tic"
   ]
  },
  {
   "cell_type": "code",
   "execution_count": null,
   "metadata": {},
   "outputs": [],
   "source": [
    "tic = time.time()\n",
    "target_predict = model_lgbmr_oe.predict(features_train_oe)\n",
    "toc = time.time()\n",
    "predict_lgbmr_oe_time = toc - tic"
   ]
  },
  {
   "cell_type": "code",
   "execution_count": null,
   "metadata": {},
   "outputs": [],
   "source": [
    "rmse_lgbmr_oe = mean_squared_error(target_train, target_predict) ** 0.5\n",
    "rmse_lgbmr_oe"
   ]
  },
  {
   "cell_type": "markdown",
   "metadata": {},
   "source": [
    "CatBoost"
   ]
  },
  {
   "cell_type": "code",
   "execution_count": null,
   "metadata": {
    "scrolled": true
   },
   "outputs": [],
   "source": [
    "catboost = CatBoostRegressor(loss_function = 'RMSE')\n",
    "parameters_cat = {'depth': range(1, 51, 50), \n",
    "                  'learning_rate': [0.1, 0.3, 0.5]}\n",
    "catboost_grid = catboost.grid_search(parameters_cat,\n",
    "                                     Pool(features_train, target_train, cat_features=[\"VehicleType\",\"Gearbox\",\n",
    "                                                                                      \"Model\",\"FuelType\",\n",
    "                                                                                      \"Brand\",\"Repaired\"]),\n",
    "                                     cv = 2,\n",
    "                                     verbose = True,\n",
    "                                     plot = False)"
   ]
  },
  {
   "cell_type": "code",
   "execution_count": null,
   "metadata": {},
   "outputs": [],
   "source": [
    "catboost_grid[\"params\"]"
   ]
  },
  {
   "cell_type": "code",
   "execution_count": null,
   "metadata": {},
   "outputs": [],
   "source": [
    "tic = time.time()\n",
    "model_cbr = CatBoostRegressor(learning_rate = catboost_grid[\"params\"]['learning_rate'],\n",
    "                              max_depth = catboost_grid[\"params\"]['depth'],\n",
    "                              random_state = 12345,\n",
    "                              cat_features=[\"VehicleType\",\"Gearbox\",\n",
    "                                            \"Model\",\"FuelType\",\n",
    "                                            \"Brand\",\"Repaired\"])\n",
    "\n",
    "model_cbr.fit(features_train, target_train)\n",
    "toc = time.time()\n",
    "study_cbr_time = toc - tic"
   ]
  },
  {
   "cell_type": "code",
   "execution_count": null,
   "metadata": {},
   "outputs": [],
   "source": [
    "tic = time.time()\n",
    "target_predict = model_cbr.predict(features_train)\n",
    "toc = time.time()\n",
    "predict_cbr_time = toc - tic"
   ]
  },
  {
   "cell_type": "code",
   "execution_count": null,
   "metadata": {},
   "outputs": [],
   "source": [
    "rmse_cbr = mean_squared_error(target_train, target_predict) ** 0.5\n",
    "rmse_cbr"
   ]
  },
  {
   "cell_type": "markdown",
   "metadata": {},
   "source": [
    "## Анализ моделей"
   ]
  },
  {
   "cell_type": "code",
   "execution_count": null,
   "metadata": {},
   "outputs": [],
   "source": [
    "index = ['Случайный лес с OHE',\n",
    "         'Случайный лес с OE',\n",
    "         'CatBoostRegressor',\n",
    "         'LGBMRegressor с OHE',\n",
    "         'LGBMRegressor с OE'\n",
    "        ]\n",
    "\n",
    "data = {'RMSE':[rmse_rf_ohe,\n",
    "                rmse_rf_oe,\n",
    "                rmse_cbr,\n",
    "                rmse_lgbmr_ohe,\n",
    "                rmse_lgbmr_oe\n",
    "               ],\n",
    "       'Время обучения модели': [study_rf_ohe_time,\n",
    "                                 study_rf_oe_time,\n",
    "                                study_cbr_time,\n",
    "                                study_lgbmr_ohe_time,\n",
    "                                study_lgbmr_oe_time\n",
    "                                ],\n",
    "        \n",
    "        'Время предсказания модели': [predict_rf_ohe_time,\n",
    "                                      predict_rf_oe_time,\n",
    "                                     predict_cbr_time,\n",
    "                                     predict_lgbmr_ohe_time,\n",
    "                                     predict_lgbmr_oe_time\n",
    "                                     ]\n",
    "       }\n",
    "total_data = pd.DataFrame(data=data, index=index)\n",
    "total_data.sort_values(by = 'RMSE', ascending=True)\n",
    "display(total_data)"
   ]
  },
  {
   "cell_type": "markdown",
   "metadata": {},
   "source": [
    "Лучшей моделью по RMSE, времени обучения модели, времени предсказания модели, если считать эти параметры одинаково важными для принятия решения, является LGBMRegressor."
   ]
  },
  {
   "cell_type": "code",
   "execution_count": null,
   "metadata": {},
   "outputs": [],
   "source": [
    "model_lgbmr = LGBMRegressor(learning_rate = clf_ohe.best_params_['learning_rate'], \n",
    "                            num_leaves = clf_ohe.best_params_['num_leaves'], \n",
    "                            max_depth = clf_ohe.best_params_['max_depth'],\n",
    "                            random_state = 12345)\n",
    "\n",
    "model_lgbmr.fit(features_test_ohe, target_test_ohe)\n",
    "\n",
    "target_predict = model_lgbmr.predict(features_test_ohe)\n",
    "\n",
    "rmse_lgbmr = mean_squared_error(target_test_ohe, target_predict) ** 0.5\n",
    "rmse_lgbmr"
   ]
  },
  {
   "cell_type": "markdown",
   "metadata": {},
   "source": [
    "В проекте:\n",
    "\n",
    "загрузил данные и провел их предобработку - очистку, заполнение, удаление лишних данных\n",
    "\n",
    "сравнил 3 модели с разными гиперпараметрами и выборками\n",
    "\n",
    "выбрал лучшую модель по 3 показателям - RMSE, время обучения и время предскзания - и провериk ее на тестовой выборке\n",
    "\n",
    "Итог - наилучшей моделью стала LGBMRegressor с OHE, которая на финальном тестировании показала RMSE 1302, несмотря на требуемое бОльшее время на обучение и предсказание. То есть если есть время, то лучше пользоваться данной моделью"
   ]
  }
 ],
 "metadata": {
  "ExecuteTimeLog": [
   {
    "duration": 371,
    "start_time": "2024-03-03T14:20:39.424Z"
   },
   {
    "duration": 2,
    "start_time": "2024-03-03T14:20:40.865Z"
   },
   {
    "duration": 2848,
    "start_time": "2024-03-03T14:20:42.833Z"
   },
   {
    "duration": 139,
    "start_time": "2024-03-03T14:21:11.976Z"
   },
   {
    "duration": 18,
    "start_time": "2024-03-03T14:21:45.256Z"
   },
   {
    "duration": 708,
    "start_time": "2024-03-03T14:23:28.674Z"
   },
   {
    "duration": 64,
    "start_time": "2024-03-03T14:25:10.521Z"
   },
   {
    "duration": 424,
    "start_time": "2024-03-03T14:25:29.195Z"
   },
   {
    "duration": 182,
    "start_time": "2024-03-03T14:25:33.077Z"
   },
   {
    "duration": 500,
    "start_time": "2024-03-03T14:25:52.793Z"
   },
   {
    "duration": 185,
    "start_time": "2024-03-03T14:25:55.569Z"
   },
   {
    "duration": 908,
    "start_time": "2024-03-03T14:26:07.260Z"
   },
   {
    "duration": 492,
    "start_time": "2024-03-03T14:28:56.731Z"
   },
   {
    "duration": 450,
    "start_time": "2024-03-03T14:29:36.200Z"
   },
   {
    "duration": 440,
    "start_time": "2024-03-03T14:29:47.966Z"
   },
   {
    "duration": 433,
    "start_time": "2024-03-03T14:29:49.190Z"
   },
   {
    "duration": 242,
    "start_time": "2024-03-03T14:34:10.456Z"
   },
   {
    "duration": 238,
    "start_time": "2024-03-03T14:35:07.309Z"
   },
   {
    "duration": 1705,
    "start_time": "2024-03-03T14:37:10.688Z"
   },
   {
    "duration": 1805,
    "start_time": "2024-03-03T14:37:33.383Z"
   },
   {
    "duration": 801,
    "start_time": "2024-03-03T14:40:11.060Z"
   },
   {
    "duration": 360,
    "start_time": "2024-03-03T14:43:05.438Z"
   },
   {
    "duration": 33,
    "start_time": "2024-03-03T14:45:02.472Z"
   },
   {
    "duration": 1676,
    "start_time": "2024-03-03T14:45:36.114Z"
   },
   {
    "duration": 172,
    "start_time": "2024-03-03T14:46:06.568Z"
   },
   {
    "duration": 423,
    "start_time": "2024-03-03T14:46:50.426Z"
   },
   {
    "duration": 848,
    "start_time": "2024-03-03T14:46:51.398Z"
   },
   {
    "duration": 35,
    "start_time": "2024-03-03T14:48:20.319Z"
   },
   {
    "duration": 13,
    "start_time": "2024-03-03T14:57:48.373Z"
   },
   {
    "duration": 11,
    "start_time": "2024-03-03T14:58:11.618Z"
   },
   {
    "duration": 39,
    "start_time": "2024-03-03T14:58:33.902Z"
   },
   {
    "duration": 1577,
    "start_time": "2024-03-03T15:11:19.917Z"
   },
   {
    "duration": 2,
    "start_time": "2024-03-03T15:11:21.498Z"
   },
   {
    "duration": 918,
    "start_time": "2024-03-03T15:11:21.502Z"
   },
   {
    "duration": 256,
    "start_time": "2024-03-03T15:11:22.422Z"
   },
   {
    "duration": 884,
    "start_time": "2024-03-03T15:11:22.688Z"
   },
   {
    "duration": 177,
    "start_time": "2024-03-03T15:11:23.573Z"
   },
   {
    "duration": 500,
    "start_time": "2024-03-03T15:11:23.752Z"
   },
   {
    "duration": 48,
    "start_time": "2024-03-03T15:11:24.254Z"
   },
   {
    "duration": 274,
    "start_time": "2024-03-03T15:11:24.303Z"
   },
   {
    "duration": 125,
    "start_time": "2024-03-03T15:11:36.293Z"
   },
   {
    "duration": 338,
    "start_time": "2024-03-03T15:12:48.231Z"
   },
   {
    "duration": 305,
    "start_time": "2024-03-03T15:13:18.217Z"
   },
   {
    "duration": 1502,
    "start_time": "2024-03-03T15:13:37.122Z"
   },
   {
    "duration": 2,
    "start_time": "2024-03-03T15:13:38.626Z"
   },
   {
    "duration": 863,
    "start_time": "2024-03-03T15:13:38.629Z"
   },
   {
    "duration": 721,
    "start_time": "2024-03-03T15:13:39.494Z"
   },
   {
    "duration": 876,
    "start_time": "2024-03-03T15:13:40.217Z"
   },
   {
    "duration": 191,
    "start_time": "2024-03-03T15:13:41.094Z"
   },
   {
    "duration": 465,
    "start_time": "2024-03-03T15:13:41.287Z"
   },
   {
    "duration": 44,
    "start_time": "2024-03-03T15:13:41.754Z"
   },
   {
    "duration": 144,
    "start_time": "2024-03-03T15:13:41.800Z"
   },
   {
    "duration": 65,
    "start_time": "2024-03-03T15:16:10.683Z"
   },
   {
    "duration": 107,
    "start_time": "2024-03-03T15:25:46.786Z"
   },
   {
    "duration": 20,
    "start_time": "2024-03-03T15:25:54.392Z"
   },
   {
    "duration": 684,
    "start_time": "2024-03-03T15:28:45.871Z"
   },
   {
    "duration": 1508,
    "start_time": "2024-03-03T15:48:15.008Z"
   },
   {
    "duration": 3,
    "start_time": "2024-03-03T15:48:16.518Z"
   },
   {
    "duration": 948,
    "start_time": "2024-03-03T15:48:16.522Z"
   },
   {
    "duration": 727,
    "start_time": "2024-03-03T15:48:17.471Z"
   },
   {
    "duration": 891,
    "start_time": "2024-03-03T15:48:18.200Z"
   },
   {
    "duration": 169,
    "start_time": "2024-03-03T15:48:19.092Z"
   },
   {
    "duration": 563,
    "start_time": "2024-03-03T15:48:19.263Z"
   },
   {
    "duration": 44,
    "start_time": "2024-03-03T15:48:19.827Z"
   },
   {
    "duration": 137,
    "start_time": "2024-03-03T15:48:19.872Z"
   },
   {
    "duration": 65,
    "start_time": "2024-03-03T15:48:20.011Z"
   },
   {
    "duration": 795,
    "start_time": "2024-03-03T15:48:20.078Z"
   },
   {
    "duration": 23,
    "start_time": "2024-03-03T15:48:20.875Z"
   },
   {
    "duration": 71,
    "start_time": "2024-03-03T15:48:20.899Z"
   },
   {
    "duration": 119,
    "start_time": "2024-03-03T15:48:20.973Z"
   },
   {
    "duration": 11,
    "start_time": "2024-03-03T15:48:57.823Z"
   },
   {
    "duration": 12,
    "start_time": "2024-03-03T15:52:21.795Z"
   },
   {
    "duration": 1431,
    "start_time": "2024-03-03T15:55:12.849Z"
   },
   {
    "duration": 2,
    "start_time": "2024-03-03T15:55:14.282Z"
   },
   {
    "duration": 856,
    "start_time": "2024-03-03T15:55:14.285Z"
   },
   {
    "duration": 682,
    "start_time": "2024-03-03T15:55:15.143Z"
   },
   {
    "duration": 891,
    "start_time": "2024-03-03T15:55:15.827Z"
   },
   {
    "duration": 173,
    "start_time": "2024-03-03T15:55:16.720Z"
   },
   {
    "duration": 467,
    "start_time": "2024-03-03T15:55:16.894Z"
   },
   {
    "duration": 50,
    "start_time": "2024-03-03T15:55:17.362Z"
   },
   {
    "duration": 134,
    "start_time": "2024-03-03T15:55:17.413Z"
   },
   {
    "duration": 72,
    "start_time": "2024-03-03T15:55:17.549Z"
   },
   {
    "duration": 697,
    "start_time": "2024-03-03T15:55:17.622Z"
   },
   {
    "duration": 221,
    "start_time": "2024-03-03T15:55:18.320Z"
   },
   {
    "duration": 330,
    "start_time": "2024-03-03T15:55:18.542Z"
   },
   {
    "duration": 114,
    "start_time": "2024-03-03T15:55:18.874Z"
   },
   {
    "duration": 99,
    "start_time": "2024-03-03T15:56:34.085Z"
   },
   {
    "duration": 32,
    "start_time": "2024-03-03T15:56:58.628Z"
   },
   {
    "duration": 31,
    "start_time": "2024-03-03T15:57:12.020Z"
   },
   {
    "duration": 8,
    "start_time": "2024-03-03T15:57:32.784Z"
   },
   {
    "duration": 33,
    "start_time": "2024-03-03T15:58:37.932Z"
   },
   {
    "duration": 0,
    "start_time": "2024-03-03T16:14:33.715Z"
   },
   {
    "duration": 98010,
    "start_time": "2024-03-03T16:14:36.165Z"
   },
   {
    "duration": 1666615,
    "start_time": "2024-03-03T16:16:57.476Z"
   },
   {
    "duration": 9,
    "start_time": "2024-03-03T16:44:48.392Z"
   },
   {
    "duration": 53,
    "start_time": "2024-03-03T16:45:09.294Z"
   },
   {
    "duration": 3,
    "start_time": "2024-03-03T16:45:21.498Z"
   },
   {
    "duration": 155,
    "start_time": "2024-03-03T16:45:28.864Z"
   },
   {
    "duration": 108,
    "start_time": "2024-03-03T16:45:35.048Z"
   },
   {
    "duration": 9,
    "start_time": "2024-03-03T16:45:48.853Z"
   },
   {
    "duration": 324,
    "start_time": "2024-03-03T16:49:18.438Z"
   },
   {
    "duration": 1517,
    "start_time": "2024-03-03T16:49:56.784Z"
   },
   {
    "duration": 2,
    "start_time": "2024-03-03T16:49:58.303Z"
   },
   {
    "duration": 882,
    "start_time": "2024-03-03T16:49:58.306Z"
   },
   {
    "duration": 732,
    "start_time": "2024-03-03T16:49:59.190Z"
   },
   {
    "duration": 915,
    "start_time": "2024-03-03T16:49:59.923Z"
   },
   {
    "duration": 175,
    "start_time": "2024-03-03T16:50:00.839Z"
   },
   {
    "duration": 481,
    "start_time": "2024-03-03T16:50:01.016Z"
   },
   {
    "duration": 44,
    "start_time": "2024-03-03T16:50:01.498Z"
   },
   {
    "duration": 194,
    "start_time": "2024-03-03T16:50:01.543Z"
   },
   {
    "duration": 71,
    "start_time": "2024-03-03T16:50:01.740Z"
   },
   {
    "duration": 831,
    "start_time": "2024-03-03T16:50:01.813Z"
   },
   {
    "duration": 0,
    "start_time": "2024-03-03T16:50:02.645Z"
   },
   {
    "duration": 0,
    "start_time": "2024-03-03T16:50:02.646Z"
   },
   {
    "duration": 0,
    "start_time": "2024-03-03T16:50:02.647Z"
   },
   {
    "duration": 0,
    "start_time": "2024-03-03T16:50:02.648Z"
   },
   {
    "duration": 0,
    "start_time": "2024-03-03T16:50:02.649Z"
   },
   {
    "duration": 0,
    "start_time": "2024-03-03T16:50:02.650Z"
   },
   {
    "duration": 0,
    "start_time": "2024-03-03T16:50:02.651Z"
   },
   {
    "duration": 0,
    "start_time": "2024-03-03T16:50:02.652Z"
   },
   {
    "duration": 0,
    "start_time": "2024-03-03T16:50:02.653Z"
   },
   {
    "duration": 0,
    "start_time": "2024-03-03T16:50:02.653Z"
   },
   {
    "duration": 1,
    "start_time": "2024-03-03T16:50:02.654Z"
   },
   {
    "duration": 0,
    "start_time": "2024-03-03T16:50:02.655Z"
   },
   {
    "duration": 714,
    "start_time": "2024-03-03T16:50:23.070Z"
   },
   {
    "duration": 639,
    "start_time": "2024-03-03T16:51:03.565Z"
   },
   {
    "duration": 718,
    "start_time": "2024-03-03T16:51:53.961Z"
   },
   {
    "duration": 680,
    "start_time": "2024-03-03T16:52:57.633Z"
   },
   {
    "duration": 724,
    "start_time": "2024-03-03T16:56:32.041Z"
   },
   {
    "duration": 28,
    "start_time": "2024-03-03T16:58:20.523Z"
   },
   {
    "duration": 661,
    "start_time": "2024-03-03T16:58:21.191Z"
   },
   {
    "duration": 492,
    "start_time": "2024-03-03T16:58:34.943Z"
   },
   {
    "duration": 875038,
    "start_time": "2024-03-03T16:59:01.638Z"
   },
   {
    "duration": 4795,
    "start_time": "2024-03-03T17:14:06.961Z"
   },
   {
    "duration": 4,
    "start_time": "2024-03-03T17:14:23.202Z"
   },
   {
    "duration": 1181,
    "start_time": "2024-03-03T17:14:27.903Z"
   },
   {
    "duration": 103,
    "start_time": "2024-03-03T17:14:54.553Z"
   },
   {
    "duration": 3,
    "start_time": "2024-03-03T17:15:36.840Z"
   },
   {
    "duration": 1546,
    "start_time": "2024-03-03T17:15:44.859Z"
   },
   {
    "duration": 33552,
    "start_time": "2024-03-03T17:16:53.557Z"
   },
   {
    "duration": 120,
    "start_time": "2024-03-03T17:17:36.302Z"
   },
   {
    "duration": 120068,
    "start_time": "2024-03-03T17:17:46.237Z"
   },
   {
    "duration": 239880,
    "start_time": "2024-03-03T17:19:58.011Z"
   },
   {
    "duration": 115,
    "start_time": "2024-03-03T17:24:02.202Z"
   },
   {
    "duration": 20586,
    "start_time": "2024-03-03T17:24:34.301Z"
   },
   {
    "duration": 95,
    "start_time": "2024-03-03T17:26:30.436Z"
   },
   {
    "duration": 141,
    "start_time": "2024-03-03T17:27:37.931Z"
   },
   {
    "duration": 711,
    "start_time": "2024-03-03T17:29:03.705Z"
   },
   {
    "duration": 6693,
    "start_time": "2024-03-03T17:31:06.647Z"
   },
   {
    "duration": 2260,
    "start_time": "2024-03-03T17:31:14.545Z"
   },
   {
    "duration": 143,
    "start_time": "2024-03-03T17:33:40.493Z"
   },
   {
    "duration": 110,
    "start_time": "2024-03-03T17:33:49.006Z"
   },
   {
    "duration": 1510,
    "start_time": "2024-03-03T17:34:54.889Z"
   },
   {
    "duration": 3,
    "start_time": "2024-03-03T17:34:56.401Z"
   },
   {
    "duration": 834,
    "start_time": "2024-03-03T17:34:56.405Z"
   },
   {
    "duration": 696,
    "start_time": "2024-03-03T17:34:57.241Z"
   },
   {
    "duration": 883,
    "start_time": "2024-03-03T17:34:57.938Z"
   },
   {
    "duration": 175,
    "start_time": "2024-03-03T17:34:58.822Z"
   },
   {
    "duration": 470,
    "start_time": "2024-03-03T17:34:58.999Z"
   },
   {
    "duration": 47,
    "start_time": "2024-03-03T17:34:59.470Z"
   },
   {
    "duration": 153,
    "start_time": "2024-03-03T17:34:59.518Z"
   },
   {
    "duration": 63,
    "start_time": "2024-03-03T17:34:59.675Z"
   },
   {
    "duration": 47,
    "start_time": "2024-03-03T17:34:59.740Z"
   },
   {
    "duration": 792,
    "start_time": "2024-03-03T17:34:59.789Z"
   },
   {
    "duration": 480,
    "start_time": "2024-03-03T17:35:00.583Z"
   },
   {
    "duration": 2243,
    "start_time": "2024-03-03T17:35:01.065Z"
   },
   {
    "duration": 3,
    "start_time": "2024-03-03T17:35:03.309Z"
   },
   {
    "duration": 1208,
    "start_time": "2024-03-03T17:35:03.314Z"
   },
   {
    "duration": 57753,
    "start_time": "2024-03-03T17:35:04.523Z"
   },
   {
    "duration": 111,
    "start_time": "2024-03-03T17:36:02.277Z"
   },
   {
    "duration": 102,
    "start_time": "2024-03-03T17:36:02.390Z"
   },
   {
    "duration": 8,
    "start_time": "2024-03-03T17:36:02.493Z"
   },
   {
    "duration": 0,
    "start_time": "2024-03-03T17:36:02.502Z"
   },
   {
    "duration": 0,
    "start_time": "2024-03-03T17:36:02.503Z"
   },
   {
    "duration": 0,
    "start_time": "2024-03-03T17:36:02.504Z"
   },
   {
    "duration": 0,
    "start_time": "2024-03-03T17:36:02.505Z"
   },
   {
    "duration": 104,
    "start_time": "2024-03-03T17:36:11.778Z"
   },
   {
    "duration": 110,
    "start_time": "2024-03-03T17:38:00.332Z"
   },
   {
    "duration": 140,
    "start_time": "2024-03-03T17:39:11.437Z"
   },
   {
    "duration": 20,
    "start_time": "2024-03-03T17:39:38.003Z"
   },
   {
    "duration": 4018,
    "start_time": "2024-03-03T17:40:02.557Z"
   },
   {
    "duration": 10,
    "start_time": "2024-03-03T17:51:26.586Z"
   },
   {
    "duration": 1490,
    "start_time": "2024-03-03T17:54:05.011Z"
   },
   {
    "duration": 3,
    "start_time": "2024-03-03T17:54:06.503Z"
   },
   {
    "duration": 892,
    "start_time": "2024-03-03T17:54:06.507Z"
   },
   {
    "duration": 729,
    "start_time": "2024-03-03T17:54:07.401Z"
   },
   {
    "duration": 921,
    "start_time": "2024-03-03T17:54:08.132Z"
   },
   {
    "duration": 183,
    "start_time": "2024-03-03T17:54:09.055Z"
   },
   {
    "duration": 476,
    "start_time": "2024-03-03T17:54:09.240Z"
   },
   {
    "duration": 47,
    "start_time": "2024-03-03T17:54:09.718Z"
   },
   {
    "duration": 161,
    "start_time": "2024-03-03T17:54:09.766Z"
   },
   {
    "duration": 65,
    "start_time": "2024-03-03T17:54:09.929Z"
   },
   {
    "duration": 18,
    "start_time": "2024-03-03T17:54:09.995Z"
   },
   {
    "duration": 721,
    "start_time": "2024-03-03T17:54:10.015Z"
   },
   {
    "duration": 412,
    "start_time": "2024-03-03T17:54:10.738Z"
   },
   {
    "duration": 2261,
    "start_time": "2024-03-03T17:54:11.153Z"
   },
   {
    "duration": 4,
    "start_time": "2024-03-03T17:54:13.415Z"
   },
   {
    "duration": 735,
    "start_time": "2024-03-03T17:54:13.420Z"
   },
   {
    "duration": 462,
    "start_time": "2024-03-03T17:54:14.156Z"
   },
   {
    "duration": 5,
    "start_time": "2024-03-03T17:54:14.619Z"
   },
   {
    "duration": 14812,
    "start_time": "2024-03-03T17:54:14.625Z"
   },
   {
    "duration": 120,
    "start_time": "2024-03-03T17:54:29.438Z"
   },
   {
    "duration": 120,
    "start_time": "2024-03-03T17:54:29.559Z"
   },
   {
    "duration": 6,
    "start_time": "2024-03-03T17:54:29.680Z"
   },
   {
    "duration": 122,
    "start_time": "2024-03-03T17:54:29.687Z"
   },
   {
    "duration": 9,
    "start_time": "2024-03-03T17:54:29.811Z"
   },
   {
    "duration": 0,
    "start_time": "2024-03-03T17:54:29.821Z"
   },
   {
    "duration": 10,
    "start_time": "2024-03-03T18:11:17.315Z"
   },
   {
    "duration": 9617,
    "start_time": "2024-03-03T18:11:33.435Z"
   },
   {
    "duration": 110,
    "start_time": "2024-03-03T18:13:09.062Z"
   },
   {
    "duration": 108,
    "start_time": "2024-03-03T18:13:45.520Z"
   },
   {
    "duration": 106,
    "start_time": "2024-03-03T18:13:56.874Z"
   },
   {
    "duration": 3454,
    "start_time": "2024-03-03T18:15:05.676Z"
   },
   {
    "duration": 126,
    "start_time": "2024-03-03T18:15:30.219Z"
   },
   {
    "duration": 108,
    "start_time": "2024-03-03T18:15:41.466Z"
   },
   {
    "duration": 100,
    "start_time": "2024-03-03T18:15:56.235Z"
   },
   {
    "duration": 35,
    "start_time": "2024-03-03T18:17:07.800Z"
   },
   {
    "duration": 144,
    "start_time": "2024-03-03T18:17:09.783Z"
   },
   {
    "duration": 132,
    "start_time": "2024-03-03T18:17:16.835Z"
   },
   {
    "duration": 697945,
    "start_time": "2024-03-03T18:17:46.769Z"
   },
   {
    "duration": 10,
    "start_time": "2024-03-03T18:29:24.716Z"
   },
   {
    "duration": 1118,
    "start_time": "2024-03-03T18:29:33.847Z"
   },
   {
    "duration": 491453,
    "start_time": "2024-03-03T18:30:03.372Z"
   },
   {
    "duration": 9,
    "start_time": "2024-03-03T18:38:14.827Z"
   },
   {
    "duration": 4,
    "start_time": "2024-03-03T18:39:49.874Z"
   },
   {
    "duration": 98,
    "start_time": "2024-03-03T18:40:12.629Z"
   },
   {
    "duration": 4,
    "start_time": "2024-03-03T18:40:31.111Z"
   },
   {
    "duration": 842,
    "start_time": "2024-03-03T18:41:17.196Z"
   },
   {
    "duration": 823,
    "start_time": "2024-03-03T18:41:29.453Z"
   },
   {
    "duration": 1449,
    "start_time": "2024-03-03T18:51:42.914Z"
   },
   {
    "duration": 2,
    "start_time": "2024-03-03T18:51:44.365Z"
   },
   {
    "duration": 875,
    "start_time": "2024-03-03T18:51:44.368Z"
   },
   {
    "duration": 706,
    "start_time": "2024-03-03T18:51:45.245Z"
   },
   {
    "duration": 913,
    "start_time": "2024-03-03T18:51:45.953Z"
   },
   {
    "duration": 182,
    "start_time": "2024-03-03T18:51:46.868Z"
   },
   {
    "duration": 509,
    "start_time": "2024-03-03T18:51:47.051Z"
   },
   {
    "duration": 48,
    "start_time": "2024-03-03T18:51:47.562Z"
   },
   {
    "duration": 147,
    "start_time": "2024-03-03T18:51:47.612Z"
   },
   {
    "duration": 68,
    "start_time": "2024-03-03T18:51:47.761Z"
   },
   {
    "duration": 38,
    "start_time": "2024-03-03T18:51:47.830Z"
   },
   {
    "duration": 724,
    "start_time": "2024-03-03T18:51:47.870Z"
   },
   {
    "duration": 462,
    "start_time": "2024-03-03T18:51:48.596Z"
   },
   {
    "duration": 1332,
    "start_time": "2024-03-03T18:51:49.061Z"
   },
   {
    "duration": 0,
    "start_time": "2024-03-03T18:51:50.395Z"
   },
   {
    "duration": 0,
    "start_time": "2024-03-03T18:51:50.396Z"
   },
   {
    "duration": 0,
    "start_time": "2024-03-03T18:51:50.397Z"
   },
   {
    "duration": 0,
    "start_time": "2024-03-03T18:51:50.398Z"
   },
   {
    "duration": 0,
    "start_time": "2024-03-03T18:51:50.399Z"
   },
   {
    "duration": 0,
    "start_time": "2024-03-03T18:51:50.401Z"
   },
   {
    "duration": 0,
    "start_time": "2024-03-03T18:51:50.402Z"
   },
   {
    "duration": 0,
    "start_time": "2024-03-03T18:51:50.403Z"
   },
   {
    "duration": 0,
    "start_time": "2024-03-03T18:51:50.405Z"
   },
   {
    "duration": 0,
    "start_time": "2024-03-03T18:51:50.406Z"
   },
   {
    "duration": 0,
    "start_time": "2024-03-03T18:51:50.407Z"
   },
   {
    "duration": 0,
    "start_time": "2024-03-03T18:51:50.409Z"
   },
   {
    "duration": 0,
    "start_time": "2024-03-03T18:51:50.410Z"
   },
   {
    "duration": 0,
    "start_time": "2024-03-03T18:51:50.411Z"
   },
   {
    "duration": 2221,
    "start_time": "2024-03-03T18:52:24.342Z"
   },
   {
    "duration": 3,
    "start_time": "2024-03-03T18:52:29.469Z"
   },
   {
    "duration": 742,
    "start_time": "2024-03-03T18:52:30.094Z"
   },
   {
    "duration": 446,
    "start_time": "2024-03-03T18:52:35.229Z"
   },
   {
    "duration": 5,
    "start_time": "2024-03-03T18:52:35.677Z"
   },
   {
    "duration": 21234,
    "start_time": "2024-03-03T18:52:36.358Z"
   },
   {
    "duration": 10002,
    "start_time": "2024-03-03T18:52:57.594Z"
   },
   {
    "duration": 3209,
    "start_time": "2024-03-03T18:53:07.598Z"
   },
   {
    "duration": 6,
    "start_time": "2024-03-03T18:53:10.808Z"
   },
   {
    "duration": 493763,
    "start_time": "2024-03-03T18:53:10.815Z"
   },
   {
    "duration": 4,
    "start_time": "2024-03-03T19:01:24.580Z"
   },
   {
    "duration": 18,
    "start_time": "2024-03-03T19:01:24.585Z"
   },
   {
    "duration": 0,
    "start_time": "2024-03-03T19:01:24.604Z"
   },
   {
    "duration": 0,
    "start_time": "2024-03-03T19:01:24.605Z"
   },
   {
    "duration": 0,
    "start_time": "2024-03-03T19:01:24.606Z"
   },
   {
    "duration": 4779,
    "start_time": "2024-03-03T19:02:05.581Z"
   },
   {
    "duration": 3667,
    "start_time": "2024-03-03T19:03:34.877Z"
   },
   {
    "duration": 157287,
    "start_time": "2024-03-03T19:04:38.908Z"
   },
   {
    "duration": 1431,
    "start_time": "2024-03-03T19:07:19.110Z"
   },
   {
    "duration": 5,
    "start_time": "2024-03-03T19:07:20.542Z"
   },
   {
    "duration": 14,
    "start_time": "2024-03-03T19:07:24.771Z"
   },
   {
    "duration": 374863,
    "start_time": "2024-03-03T19:11:49.455Z"
   },
   {
    "duration": 96,
    "start_time": "2024-03-03T19:18:04.320Z"
   },
   {
    "duration": 1750,
    "start_time": "2024-03-19T09:36:36.953Z"
   },
   {
    "duration": 2,
    "start_time": "2024-03-19T09:36:40.260Z"
   },
   {
    "duration": 2942,
    "start_time": "2024-03-19T09:36:41.888Z"
   },
   {
    "duration": 805,
    "start_time": "2024-03-19T09:36:44.833Z"
   },
   {
    "duration": 943,
    "start_time": "2024-03-19T09:37:10.539Z"
   },
   {
    "duration": 701,
    "start_time": "2024-03-19T09:37:11.484Z"
   },
   {
    "duration": 951,
    "start_time": "2024-03-19T09:37:12.559Z"
   },
   {
    "duration": 1726,
    "start_time": "2024-03-19T09:37:55.889Z"
   },
   {
    "duration": 1590,
    "start_time": "2024-03-19T09:38:04.131Z"
   },
   {
    "duration": 12,
    "start_time": "2024-03-19T09:38:28.130Z"
   },
   {
    "duration": 10,
    "start_time": "2024-03-19T09:38:33.978Z"
   },
   {
    "duration": 11,
    "start_time": "2024-03-19T09:38:51.719Z"
   },
   {
    "duration": 11,
    "start_time": "2024-03-19T09:40:58.878Z"
   },
   {
    "duration": 41,
    "start_time": "2024-03-19T09:41:13.589Z"
   },
   {
    "duration": 16,
    "start_time": "2024-03-19T09:43:00.119Z"
   },
   {
    "duration": 679,
    "start_time": "2024-03-19T09:43:14.398Z"
   },
   {
    "duration": 12,
    "start_time": "2024-03-19T09:46:01.559Z"
   },
   {
    "duration": 13,
    "start_time": "2024-03-19T09:46:08.386Z"
   },
   {
    "duration": 14,
    "start_time": "2024-03-19T09:46:20.338Z"
   },
   {
    "duration": 10,
    "start_time": "2024-03-19T09:48:03.120Z"
   },
   {
    "duration": 33,
    "start_time": "2024-03-19T09:48:17.881Z"
   },
   {
    "duration": 41,
    "start_time": "2024-03-19T09:48:28.820Z"
   },
   {
    "duration": 9,
    "start_time": "2024-03-19T09:52:55.949Z"
   },
   {
    "duration": 10,
    "start_time": "2024-03-19T09:53:03.028Z"
   },
   {
    "duration": 9,
    "start_time": "2024-03-19T09:53:35.569Z"
   },
   {
    "duration": 569,
    "start_time": "2024-03-19T09:54:22.879Z"
   },
   {
    "duration": 11,
    "start_time": "2024-03-19T09:54:40.250Z"
   },
   {
    "duration": 51,
    "start_time": "2024-03-19T09:54:41.911Z"
   },
   {
    "duration": 8,
    "start_time": "2024-03-19T09:54:55.241Z"
   },
   {
    "duration": 8,
    "start_time": "2024-03-19T09:56:53.659Z"
   },
   {
    "duration": 559,
    "start_time": "2024-03-19T09:57:06.980Z"
   },
   {
    "duration": 301,
    "start_time": "2024-03-19T09:57:56.359Z"
   },
   {
    "duration": 13,
    "start_time": "2024-03-19T09:58:17.329Z"
   },
   {
    "duration": 0,
    "start_time": "2024-03-19T09:59:40.415Z"
   },
   {
    "duration": 12,
    "start_time": "2024-03-19T10:01:13.438Z"
   },
   {
    "duration": 38,
    "start_time": "2024-03-19T10:01:21.920Z"
   },
   {
    "duration": 3863,
    "start_time": "2024-03-19T10:02:12.378Z"
   },
   {
    "duration": 33,
    "start_time": "2024-03-19T10:09:17.039Z"
   },
   {
    "duration": 60,
    "start_time": "2024-03-19T10:09:23.981Z"
   },
   {
    "duration": 11,
    "start_time": "2024-03-19T10:09:29.820Z"
   },
   {
    "duration": 42,
    "start_time": "2024-03-19T10:09:30.908Z"
   },
   {
    "duration": 36,
    "start_time": "2024-03-19T10:09:32.119Z"
   },
   {
    "duration": 56,
    "start_time": "2024-03-19T10:10:28.559Z"
   },
   {
    "duration": 42,
    "start_time": "2024-03-19T10:11:42.899Z"
   },
   {
    "duration": 47,
    "start_time": "2024-03-19T10:21:40.344Z"
   },
   {
    "duration": 7576,
    "start_time": "2024-03-19T10:22:04.306Z"
   },
   {
    "duration": 7,
    "start_time": "2024-03-19T10:23:45.764Z"
   },
   {
    "duration": 34,
    "start_time": "2024-03-19T10:31:56.795Z"
   },
   {
    "duration": 44,
    "start_time": "2024-03-19T10:32:33.266Z"
   },
   {
    "duration": 7,
    "start_time": "2024-03-19T10:33:41.591Z"
   },
   {
    "duration": 32,
    "start_time": "2024-03-19T10:35:24.293Z"
   },
   {
    "duration": 97,
    "start_time": "2024-03-19T10:38:33.073Z"
   },
   {
    "duration": 1650,
    "start_time": "2024-03-19T10:39:09.384Z"
   },
   {
    "duration": 33,
    "start_time": "2024-03-19T10:39:32.023Z"
   },
   {
    "duration": 18,
    "start_time": "2024-03-19T10:44:30.803Z"
   },
   {
    "duration": 50,
    "start_time": "2024-03-19T10:53:33.708Z"
   },
   {
    "duration": 30,
    "start_time": "2024-03-19T10:55:09.431Z"
   },
   {
    "duration": 46,
    "start_time": "2024-03-19T10:55:24.523Z"
   },
   {
    "duration": 44,
    "start_time": "2024-03-19T10:56:59.517Z"
   },
   {
    "duration": 359,
    "start_time": "2024-03-19T10:57:18.521Z"
   },
   {
    "duration": 71,
    "start_time": "2024-03-19T10:57:20.801Z"
   },
   {
    "duration": 24,
    "start_time": "2024-03-19T10:57:55.767Z"
   },
   {
    "duration": 49,
    "start_time": "2024-03-19T10:58:02.890Z"
   },
   {
    "duration": 5,
    "start_time": "2024-03-19T11:17:13.831Z"
   },
   {
    "duration": 25,
    "start_time": "2024-03-19T11:18:19.118Z"
   },
   {
    "duration": 546,
    "start_time": "2024-03-19T11:18:26.079Z"
   },
   {
    "duration": 15,
    "start_time": "2024-03-19T11:20:30.348Z"
   },
   {
    "duration": 495,
    "start_time": "2024-03-19T11:20:38.548Z"
   },
   {
    "duration": 367,
    "start_time": "2024-03-19T11:32:22.700Z"
   },
   {
    "duration": 17,
    "start_time": "2024-03-19T11:32:24.101Z"
   },
   {
    "duration": 38,
    "start_time": "2024-03-19T11:32:39.478Z"
   },
   {
    "duration": 139,
    "start_time": "2024-03-19T11:33:29.661Z"
   },
   {
    "duration": 18,
    "start_time": "2024-03-19T11:33:43.659Z"
   },
   {
    "duration": 124,
    "start_time": "2024-03-19T11:33:47.310Z"
   },
   {
    "duration": 18,
    "start_time": "2024-03-19T11:33:55.080Z"
   },
   {
    "duration": 511,
    "start_time": "2024-03-19T11:33:55.819Z"
   },
   {
    "duration": 372,
    "start_time": "2024-03-19T11:33:57.352Z"
   },
   {
    "duration": 516,
    "start_time": "2024-03-19T11:33:58.522Z"
   },
   {
    "duration": 10,
    "start_time": "2024-03-19T11:37:55.631Z"
   },
   {
    "duration": 8,
    "start_time": "2024-03-19T11:38:25.321Z"
   },
   {
    "duration": 10,
    "start_time": "2024-03-19T11:38:35.131Z"
   },
   {
    "duration": 10,
    "start_time": "2024-03-19T11:38:40.952Z"
   },
   {
    "duration": 1211265,
    "start_time": "2024-03-19T11:38:58.603Z"
   },
   {
    "duration": 1652,
    "start_time": "2024-03-19T11:59:27.451Z"
   },
   {
    "duration": 3,
    "start_time": "2024-03-19T11:59:41.922Z"
   },
   {
    "duration": 546,
    "start_time": "2024-03-19T12:00:36.850Z"
   },
   {
    "duration": 350,
    "start_time": "2024-03-19T12:00:41.093Z"
   },
   {
    "duration": 5,
    "start_time": "2024-03-19T12:00:51.053Z"
   },
   {
    "duration": 129,
    "start_time": "2024-03-19T12:02:45.322Z"
   },
   {
    "duration": 4,
    "start_time": "2024-03-19T12:03:28.491Z"
   },
   {
    "duration": 907,
    "start_time": "2024-03-19T12:06:03.705Z"
   },
   {
    "duration": 385,
    "start_time": "2024-03-19T12:06:05.581Z"
   },
   {
    "duration": 5,
    "start_time": "2024-03-19T12:06:07.940Z"
   },
   {
    "duration": 49,
    "start_time": "2024-03-19T12:07:33.416Z"
   },
   {
    "duration": 12,
    "start_time": "2024-03-19T12:07:34.709Z"
   },
   {
    "duration": 5,
    "start_time": "2024-03-19T12:07:36.013Z"
   },
   {
    "duration": 15,
    "start_time": "2024-03-19T12:10:06.082Z"
   },
   {
    "duration": 1726,
    "start_time": "2024-03-19T12:10:57.058Z"
   },
   {
    "duration": 4,
    "start_time": "2024-03-19T12:11:01.058Z"
   },
   {
    "duration": 556,
    "start_time": "2024-03-19T12:11:02.166Z"
   },
   {
    "duration": 361,
    "start_time": "2024-03-19T12:11:03.464Z"
   },
   {
    "duration": 6,
    "start_time": "2024-03-19T12:11:05.302Z"
   },
   {
    "duration": 129,
    "start_time": "2024-03-19T12:11:11.157Z"
   },
   {
    "duration": 5,
    "start_time": "2024-03-19T12:11:13.710Z"
   },
   {
    "duration": 48,
    "start_time": "2024-03-19T12:11:16.774Z"
   },
   {
    "duration": 11,
    "start_time": "2024-03-19T12:11:19.192Z"
   },
   {
    "duration": 6,
    "start_time": "2024-03-19T12:11:25.413Z"
   },
   {
    "duration": 105867,
    "start_time": "2024-03-19T12:12:39.320Z"
   },
   {
    "duration": 11,
    "start_time": "2024-03-19T12:14:56.719Z"
   },
   {
    "duration": 85907,
    "start_time": "2024-03-19T12:15:03.582Z"
   },
   {
    "duration": 8883,
    "start_time": "2024-03-19T12:16:46.600Z"
   },
   {
    "duration": 10,
    "start_time": "2024-03-19T12:16:55.485Z"
   },
   {
    "duration": 10,
    "start_time": "2024-03-19T12:17:44.051Z"
   },
   {
    "duration": 4387,
    "start_time": "2024-03-19T12:17:57.802Z"
   },
   {
    "duration": 1357,
    "start_time": "2024-03-19T12:18:03.230Z"
   },
   {
    "duration": 6,
    "start_time": "2024-03-19T12:18:06.029Z"
   },
   {
    "duration": 41401,
    "start_time": "2024-03-19T12:19:51.079Z"
   },
   {
    "duration": 2591,
    "start_time": "2024-03-19T12:20:34.300Z"
   },
   {
    "duration": 11,
    "start_time": "2024-03-19T12:20:41.499Z"
   },
   {
    "duration": 496,
    "start_time": "2024-03-19T12:20:57.899Z"
   },
   {
    "duration": 10,
    "start_time": "2024-03-19T12:27:59.229Z"
   },
   {
    "duration": 7,
    "start_time": "2024-03-19T12:28:14.939Z"
   },
   {
    "duration": 141105,
    "start_time": "2024-03-19T12:29:03.380Z"
   },
   {
    "duration": 5,
    "start_time": "2024-03-19T12:31:24.487Z"
   },
   {
    "duration": 30468,
    "start_time": "2024-03-19T12:31:24.494Z"
   },
   {
    "duration": 395,
    "start_time": "2024-03-19T12:31:54.964Z"
   },
   {
    "duration": 6,
    "start_time": "2024-03-19T12:31:55.361Z"
   },
   {
    "duration": 11,
    "start_time": "2024-03-19T12:34:07.116Z"
   },
   {
    "duration": 5,
    "start_time": "2024-03-19T12:34:29.776Z"
   },
   {
    "duration": 11,
    "start_time": "2024-03-19T12:34:43.479Z"
   },
   {
    "duration": 6,
    "start_time": "2024-03-19T12:35:36.751Z"
   },
   {
    "duration": 16,
    "start_time": "2024-03-19T12:36:26.403Z"
   },
   {
    "duration": 2609,
    "start_time": "2024-03-19T12:37:11.481Z"
   },
   {
    "duration": 1902,
    "start_time": "2024-03-19T12:37:31.292Z"
   },
   {
    "duration": 1571,
    "start_time": "2024-03-19T12:39:25.080Z"
   },
   {
    "duration": 3,
    "start_time": "2024-03-19T12:39:26.652Z"
   },
   {
    "duration": 969,
    "start_time": "2024-03-19T12:39:26.656Z"
   },
   {
    "duration": 725,
    "start_time": "2024-03-19T12:39:27.628Z"
   },
   {
    "duration": 1027,
    "start_time": "2024-03-19T12:39:28.355Z"
   },
   {
    "duration": 44,
    "start_time": "2024-03-19T12:39:29.384Z"
   },
   {
    "duration": 32,
    "start_time": "2024-03-19T12:39:29.430Z"
   },
   {
    "duration": 70,
    "start_time": "2024-03-19T12:39:29.463Z"
   },
   {
    "duration": 633,
    "start_time": "2024-03-19T12:39:29.535Z"
   },
   {
    "duration": 19,
    "start_time": "2024-03-19T12:39:30.171Z"
   },
   {
    "duration": 352,
    "start_time": "2024-03-19T12:39:30.192Z"
   },
   {
    "duration": 257,
    "start_time": "2024-03-19T12:39:30.546Z"
   },
   {
    "duration": 135,
    "start_time": "2024-03-19T12:39:30.804Z"
   },
   {
    "duration": 111,
    "start_time": "2024-03-19T12:39:30.940Z"
   },
   {
    "duration": 1894,
    "start_time": "2024-03-19T12:39:31.053Z"
   },
   {
    "duration": 37,
    "start_time": "2024-03-19T12:39:32.950Z"
   },
   {
    "duration": 173,
    "start_time": "2024-03-19T12:39:32.989Z"
   },
   {
    "duration": 96,
    "start_time": "2024-03-19T12:39:33.164Z"
   },
   {
    "duration": 36,
    "start_time": "2024-03-19T12:39:33.262Z"
   },
   {
    "duration": 9,
    "start_time": "2024-03-19T12:39:33.299Z"
   },
   {
    "duration": 34,
    "start_time": "2024-03-19T12:39:33.310Z"
   },
   {
    "duration": 63,
    "start_time": "2024-03-19T12:39:33.346Z"
   },
   {
    "duration": 32,
    "start_time": "2024-03-19T12:39:33.411Z"
   },
   {
    "duration": 35,
    "start_time": "2024-03-19T12:39:33.445Z"
   },
   {
    "duration": 20,
    "start_time": "2024-03-19T12:39:33.482Z"
   },
   {
    "duration": 59,
    "start_time": "2024-03-19T12:39:33.504Z"
   },
   {
    "duration": 61,
    "start_time": "2024-03-19T12:39:33.565Z"
   },
   {
    "duration": 148,
    "start_time": "2024-03-19T12:39:33.630Z"
   },
   {
    "duration": 118,
    "start_time": "2024-03-19T12:39:33.780Z"
   },
   {
    "duration": 11,
    "start_time": "2024-03-19T12:39:33.900Z"
   },
   {
    "duration": 438,
    "start_time": "2024-03-19T12:39:33.913Z"
   },
   {
    "duration": 313,
    "start_time": "2024-03-19T12:39:34.353Z"
   },
   {
    "duration": 498,
    "start_time": "2024-03-19T12:39:34.668Z"
   },
   {
    "duration": 2115,
    "start_time": "2024-03-19T17:44:18.416Z"
   },
   {
    "duration": 2,
    "start_time": "2024-03-19T17:44:20.532Z"
   },
   {
    "duration": 1032,
    "start_time": "2024-03-19T17:44:20.536Z"
   },
   {
    "duration": 655,
    "start_time": "2024-03-19T17:44:21.570Z"
   },
   {
    "duration": 825,
    "start_time": "2024-03-19T17:44:22.227Z"
   },
   {
    "duration": 38,
    "start_time": "2024-03-19T17:44:23.053Z"
   },
   {
    "duration": 12,
    "start_time": "2024-03-19T17:44:23.092Z"
   },
   {
    "duration": 45,
    "start_time": "2024-03-19T17:44:23.106Z"
   },
   {
    "duration": 553,
    "start_time": "2024-03-19T17:44:23.152Z"
   },
   {
    "duration": 10,
    "start_time": "2024-03-19T17:44:23.707Z"
   },
   {
    "duration": 38,
    "start_time": "2024-03-19T17:44:23.718Z"
   },
   {
    "duration": 20,
    "start_time": "2024-03-19T17:44:23.757Z"
   },
   {
    "duration": 7,
    "start_time": "2024-03-19T17:44:23.779Z"
   },
   {
    "duration": 29,
    "start_time": "2024-03-19T17:44:23.788Z"
   },
   {
    "duration": 1527,
    "start_time": "2024-03-19T17:44:23.818Z"
   },
   {
    "duration": 21,
    "start_time": "2024-03-19T17:44:25.346Z"
   },
   {
    "duration": 19,
    "start_time": "2024-03-19T17:44:25.368Z"
   },
   {
    "duration": 7,
    "start_time": "2024-03-19T17:44:25.389Z"
   },
   {
    "duration": 30,
    "start_time": "2024-03-19T17:44:25.397Z"
   },
   {
    "duration": 18,
    "start_time": "2024-03-19T17:44:25.428Z"
   },
   {
    "duration": 46,
    "start_time": "2024-03-19T17:44:25.447Z"
   },
   {
    "duration": 64,
    "start_time": "2024-03-19T17:44:25.495Z"
   },
   {
    "duration": 26,
    "start_time": "2024-03-19T17:44:25.561Z"
   },
   {
    "duration": 26,
    "start_time": "2024-03-19T17:44:25.588Z"
   },
   {
    "duration": 17,
    "start_time": "2024-03-19T17:44:25.615Z"
   },
   {
    "duration": 48,
    "start_time": "2024-03-19T17:44:25.633Z"
   },
   {
    "duration": 39,
    "start_time": "2024-03-19T17:44:25.682Z"
   },
   {
    "duration": 127,
    "start_time": "2024-03-19T17:44:25.723Z"
   },
   {
    "duration": 108,
    "start_time": "2024-03-19T17:44:25.852Z"
   },
   {
    "duration": 106,
    "start_time": "2024-03-19T17:44:25.962Z"
   },
   {
    "duration": 2204,
    "start_time": "2024-03-19T17:47:23.910Z"
   },
   {
    "duration": 2,
    "start_time": "2024-03-19T17:47:26.116Z"
   },
   {
    "duration": 839,
    "start_time": "2024-03-19T17:47:26.122Z"
   },
   {
    "duration": 713,
    "start_time": "2024-03-19T17:47:26.963Z"
   },
   {
    "duration": 889,
    "start_time": "2024-03-19T17:47:27.678Z"
   },
   {
    "duration": 41,
    "start_time": "2024-03-19T17:47:28.568Z"
   },
   {
    "duration": 17,
    "start_time": "2024-03-19T17:47:28.610Z"
   },
   {
    "duration": 46,
    "start_time": "2024-03-19T17:47:28.628Z"
   },
   {
    "duration": 620,
    "start_time": "2024-03-19T17:47:28.677Z"
   },
   {
    "duration": 10,
    "start_time": "2024-03-19T17:47:29.299Z"
   },
   {
    "duration": 49,
    "start_time": "2024-03-19T17:47:29.310Z"
   },
   {
    "duration": 21,
    "start_time": "2024-03-19T17:47:29.360Z"
   },
   {
    "duration": 7,
    "start_time": "2024-03-19T17:47:29.383Z"
   },
   {
    "duration": 67,
    "start_time": "2024-03-19T17:47:29.391Z"
   },
   {
    "duration": 1669,
    "start_time": "2024-03-19T17:47:29.460Z"
   },
   {
    "duration": 28,
    "start_time": "2024-03-19T17:47:31.131Z"
   },
   {
    "duration": 33,
    "start_time": "2024-03-19T17:47:31.161Z"
   },
   {
    "duration": 37,
    "start_time": "2024-03-19T17:47:31.196Z"
   },
   {
    "duration": 92,
    "start_time": "2024-03-19T17:47:31.234Z"
   },
   {
    "duration": 84,
    "start_time": "2024-03-19T17:47:31.328Z"
   },
   {
    "duration": 79,
    "start_time": "2024-03-19T17:47:31.413Z"
   },
   {
    "duration": 78,
    "start_time": "2024-03-19T17:47:31.494Z"
   },
   {
    "duration": 45,
    "start_time": "2024-03-19T17:47:31.574Z"
   },
   {
    "duration": 82,
    "start_time": "2024-03-19T17:47:31.620Z"
   },
   {
    "duration": 138,
    "start_time": "2024-03-19T17:47:31.703Z"
   },
   {
    "duration": 96,
    "start_time": "2024-03-19T17:47:31.843Z"
   },
   {
    "duration": 72,
    "start_time": "2024-03-19T17:47:31.943Z"
   },
   {
    "duration": 205,
    "start_time": "2024-03-19T17:47:32.016Z"
   },
   {
    "duration": 104,
    "start_time": "2024-03-19T17:47:32.223Z"
   },
   {
    "duration": 19,
    "start_time": "2024-03-19T17:47:32.328Z"
   },
   {
    "duration": 418,
    "start_time": "2024-03-19T17:47:32.349Z"
   },
   {
    "duration": 315,
    "start_time": "2024-03-19T17:47:32.769Z"
   },
   {
    "duration": 461,
    "start_time": "2024-03-19T17:47:33.086Z"
   }
  ],
  "kernelspec": {
   "display_name": "Python 3 (ipykernel)",
   "language": "python",
   "name": "python3"
  },
  "language_info": {
   "codemirror_mode": {
    "name": "ipython",
    "version": 3
   },
   "file_extension": ".py",
   "mimetype": "text/x-python",
   "name": "python",
   "nbconvert_exporter": "python",
   "pygments_lexer": "ipython3",
   "version": "3.9.5"
  },
  "toc": {
   "base_numbering": 1,
   "nav_menu": {},
   "number_sections": true,
   "sideBar": true,
   "skip_h1_title": true,
   "title_cell": "Table of Contents",
   "title_sidebar": "Contents",
   "toc_cell": false,
   "toc_position": {},
   "toc_section_display": true,
   "toc_window_display": false
  }
 },
 "nbformat": 4,
 "nbformat_minor": 2
}
